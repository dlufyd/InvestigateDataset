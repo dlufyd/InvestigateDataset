{
 "cells": [
  {
   "cell_type": "markdown",
   "metadata": {},
   "source": [
    "# Project: Investigate TMDB movie data\n",
    "\n",
    "## Table of Contents\n",
    "<ul>\n",
    "<li><a href=\"#intro\">Introduction</a></li>\n",
    "<li><a href=\"#wrangling\">Data Wrangling</a></li>\n",
    "<li><a href=\"#eda\">Exploratory Data Analysis</a></li>\n",
    "<li><a href=\"#conclusions\">Conclusions</a></li>\n",
    "</ul>"
   ]
  },
  {
   "cell_type": "markdown",
   "metadata": {},
   "source": [
    "<a id='intro'></a>\n",
    "## Introduction"
   ]
  },
  {
   "cell_type": "markdown",
   "metadata": {},
   "source": [
    "For this Data Analyst project, I selected the TMDb movie dataset from kaggle to investigate. According to kaggle introduction [page](https://www.kaggle.com/tmdb/tmdb-movie-metadata), the data contains information that are provided from The Movie Database (TMDb). It collects 5000+ movies and their rating and basic move information, including user ratings and revenue data.\n",
    "\n",
    "### The potiental problem that can be discussed in the dataset:\n",
    "Accroding Kaggle data overview, the dataset provides some metrics that measure how successful these movies are. These metrics include popularity, revenue and vote average. It also contains some basic information corresponding to the movie like cast, director, keywords, runtime, genres, etc. Any of the basic information can be a key to a success movie. More specificly, these factors can be classified to two categrories as follows:\n",
    "#### Metrics  for Evaluating the Success Movie\n",
    "- popularity\n",
    "- revenue\n",
    "- vote average score\n",
    "\n",
    "#### Potential Key to Affect the Success of a Movie\n",
    "- Budget\n",
    "- Cast\n",
    "- Director\n",
    "- Tagline\n",
    "- Keywords\n",
    "- Runtime\n",
    "- Genres\n",
    "- Production Companies\n",
    "- Release Date\n",
    "- Vote Average"
   ]
  },
  {
   "cell_type": "markdown",
   "metadata": {},
   "source": [
    "Since the dataset is featured with the rating of movies as mentioned above, it contains plentiful information for exploring the properties that are associated with successful movies, which can be defined by high popularity, high revenue and high rating score  movies. Besides, the dataset also contains the movie released year, so it also can let us to explore the trend in these movie metrics. Therefore, the qestions I am going to explore are including three parts:\n",
    "\n",
    "**Research Part 1: General Explore**\n",
    "   - Question 1: Popularity Over Years\n",
    "   - Question 2: The distribution of revenue in different popularity levels in recent five years.\n",
    "   - Question 3: The distribution of revenue in different score rating levels in recent five years.\n",
    "   \n",
    "**Research Part 2 : Find the Properties are Associated with Successful Movies**\n",
    "   - Question 1: What kinds of properties are associated with movies that have high popularity?\n",
    "   - Question 2: What kinds of properties are associated with movies that have high voting score?\n",
    "\n",
    "**Research Part 3 Top Keywords and Genres Trends by Generation**\n",
    "   - Question 1: Number of movie released year by year\n",
    "   - Question 2: Keywords Trends by Generation\n",
    "   - Question 3: Genres Trends by Generation"
   ]
  },
  {
   "cell_type": "markdown",
   "metadata": {},
   "source": [
    "<a id='wrangling'></a>\n",
    "## Data Wrangling\n",
    "\n",
    "### General Dataset Properties "
   ]
  },
  {
   "cell_type": "markdown",
   "metadata": {},
   "source": [
    "**First, let's look what the dataset looks like for preceeding to investigate.**"
   ]
  },
  {
   "cell_type": "code",
   "execution_count": 448,
   "metadata": {},
   "outputs": [],
   "source": [
    "# Import statements for all of the packages that I plan to use.\n",
    "import pandas as pd\n",
    "import numpy as np\n",
    "import matplotlib.pyplot as plt\n",
    "import seaborn as sns\n",
    "from collections import Counter\n",
    "% matplotlib inline"
   ]
  },
  {
   "cell_type": "code",
   "execution_count": 449,
   "metadata": {},
   "outputs": [
    {
     "data": {
      "text/html": [
       "<div>\n",
       "<style>\n",
       "    .dataframe thead tr:only-child th {\n",
       "        text-align: right;\n",
       "    }\n",
       "\n",
       "    .dataframe thead th {\n",
       "        text-align: left;\n",
       "    }\n",
       "\n",
       "    .dataframe tbody tr th {\n",
       "        vertical-align: top;\n",
       "    }\n",
       "</style>\n",
       "<table border=\"1\" class=\"dataframe\">\n",
       "  <thead>\n",
       "    <tr style=\"text-align: right;\">\n",
       "      <th></th>\n",
       "      <th>id</th>\n",
       "      <th>imdb_id</th>\n",
       "      <th>popularity</th>\n",
       "      <th>budget</th>\n",
       "      <th>revenue</th>\n",
       "      <th>original_title</th>\n",
       "      <th>cast</th>\n",
       "      <th>homepage</th>\n",
       "      <th>director</th>\n",
       "      <th>tagline</th>\n",
       "      <th>...</th>\n",
       "      <th>overview</th>\n",
       "      <th>runtime</th>\n",
       "      <th>genres</th>\n",
       "      <th>production_companies</th>\n",
       "      <th>release_date</th>\n",
       "      <th>vote_count</th>\n",
       "      <th>vote_average</th>\n",
       "      <th>release_year</th>\n",
       "      <th>budget_adj</th>\n",
       "      <th>revenue_adj</th>\n",
       "    </tr>\n",
       "  </thead>\n",
       "  <tbody>\n",
       "    <tr>\n",
       "      <th>0</th>\n",
       "      <td>135397</td>\n",
       "      <td>tt0369610</td>\n",
       "      <td>32.985763</td>\n",
       "      <td>150000000</td>\n",
       "      <td>1513528810</td>\n",
       "      <td>Jurassic World</td>\n",
       "      <td>Chris Pratt|Bryce Dallas Howard|Irrfan Khan|Vi...</td>\n",
       "      <td>http://www.jurassicworld.com/</td>\n",
       "      <td>Colin Trevorrow</td>\n",
       "      <td>The park is open.</td>\n",
       "      <td>...</td>\n",
       "      <td>Twenty-two years after the events of Jurassic ...</td>\n",
       "      <td>124</td>\n",
       "      <td>Action|Adventure|Science Fiction|Thriller</td>\n",
       "      <td>Universal Studios|Amblin Entertainment|Legenda...</td>\n",
       "      <td>6/9/15</td>\n",
       "      <td>5562</td>\n",
       "      <td>6.5</td>\n",
       "      <td>2015</td>\n",
       "      <td>1.379999e+08</td>\n",
       "      <td>1.392446e+09</td>\n",
       "    </tr>\n",
       "  </tbody>\n",
       "</table>\n",
       "<p>1 rows × 21 columns</p>\n",
       "</div>"
      ],
      "text/plain": [
       "       id    imdb_id  popularity     budget     revenue  original_title  \\\n",
       "0  135397  tt0369610   32.985763  150000000  1513528810  Jurassic World   \n",
       "\n",
       "                                                cast  \\\n",
       "0  Chris Pratt|Bryce Dallas Howard|Irrfan Khan|Vi...   \n",
       "\n",
       "                        homepage         director            tagline  \\\n",
       "0  http://www.jurassicworld.com/  Colin Trevorrow  The park is open.   \n",
       "\n",
       "       ...                                                overview runtime  \\\n",
       "0      ...       Twenty-two years after the events of Jurassic ...     124   \n",
       "\n",
       "                                      genres  \\\n",
       "0  Action|Adventure|Science Fiction|Thriller   \n",
       "\n",
       "                                production_companies release_date vote_count  \\\n",
       "0  Universal Studios|Amblin Entertainment|Legenda...       6/9/15       5562   \n",
       "\n",
       "   vote_average  release_year    budget_adj   revenue_adj  \n",
       "0           6.5          2015  1.379999e+08  1.392446e+09  \n",
       "\n",
       "[1 rows x 21 columns]"
      ]
     },
     "execution_count": 449,
     "metadata": {},
     "output_type": "execute_result"
    }
   ],
   "source": [
    "# Load the data and print out a few lines. Perform operations to inspect data\n",
    "#   types and look for instances of missing or possibly errant data.\n",
    "df = pd.read_csv('tmdb-movies (1).csv')\n",
    "df.head(1)"
   ]
  },
  {
   "cell_type": "markdown",
   "metadata": {},
   "source": [
    "**Then, find the basic information of the dataset.**"
   ]
  },
  {
   "cell_type": "code",
   "execution_count": 450,
   "metadata": {},
   "outputs": [
    {
     "name": "stdout",
     "output_type": "stream",
     "text": [
      "<class 'pandas.core.frame.DataFrame'>\n",
      "RangeIndex: 10866 entries, 0 to 10865\n",
      "Data columns (total 21 columns):\n",
      "id                      10866 non-null int64\n",
      "imdb_id                 10856 non-null object\n",
      "popularity              10866 non-null float64\n",
      "budget                  10866 non-null int64\n",
      "revenue                 10866 non-null int64\n",
      "original_title          10866 non-null object\n",
      "cast                    10790 non-null object\n",
      "homepage                2936 non-null object\n",
      "director                10822 non-null object\n",
      "tagline                 8042 non-null object\n",
      "keywords                9373 non-null object\n",
      "overview                10862 non-null object\n",
      "runtime                 10866 non-null int64\n",
      "genres                  10843 non-null object\n",
      "production_companies    9836 non-null object\n",
      "release_date            10866 non-null object\n",
      "vote_count              10866 non-null int64\n",
      "vote_average            10866 non-null float64\n",
      "release_year            10866 non-null int64\n",
      "budget_adj              10866 non-null float64\n",
      "revenue_adj             10866 non-null float64\n",
      "dtypes: float64(4), int64(6), object(11)\n",
      "memory usage: 1.7+ MB\n"
     ]
    }
   ],
   "source": [
    "#see the column info and null values in the dataset\n",
    "df.info()"
   ]
  },
  {
   "cell_type": "markdown",
   "metadata": {},
   "source": [
    "From the table above, there are totally 10866 entries and total 21 columns. And there exists some null value in the cast, director, overview and genres columns. But some columns are with **a lot of null value rows** like `homepage`, `tagline`, `keywords` and `production_companies`, especially the **`homepage`** and **`tagline`** columns are even not necessary for answering the question, so I decide to drop both of the columns on the stage."
   ]
  },
  {
   "cell_type": "markdown",
   "metadata": {},
   "source": [
    "Let's see some descriptive statistics for the data set."
   ]
  },
  {
   "cell_type": "code",
   "execution_count": 451,
   "metadata": {},
   "outputs": [
    {
     "data": {
      "text/html": [
       "<div>\n",
       "<style>\n",
       "    .dataframe thead tr:only-child th {\n",
       "        text-align: right;\n",
       "    }\n",
       "\n",
       "    .dataframe thead th {\n",
       "        text-align: left;\n",
       "    }\n",
       "\n",
       "    .dataframe tbody tr th {\n",
       "        vertical-align: top;\n",
       "    }\n",
       "</style>\n",
       "<table border=\"1\" class=\"dataframe\">\n",
       "  <thead>\n",
       "    <tr style=\"text-align: right;\">\n",
       "      <th></th>\n",
       "      <th>id</th>\n",
       "      <th>popularity</th>\n",
       "      <th>budget</th>\n",
       "      <th>revenue</th>\n",
       "      <th>runtime</th>\n",
       "      <th>vote_count</th>\n",
       "      <th>vote_average</th>\n",
       "      <th>release_year</th>\n",
       "      <th>budget_adj</th>\n",
       "      <th>revenue_adj</th>\n",
       "    </tr>\n",
       "  </thead>\n",
       "  <tbody>\n",
       "    <tr>\n",
       "      <th>count</th>\n",
       "      <td>10866.000000</td>\n",
       "      <td>10866.000000</td>\n",
       "      <td>1.086600e+04</td>\n",
       "      <td>1.086600e+04</td>\n",
       "      <td>10866.000000</td>\n",
       "      <td>10866.000000</td>\n",
       "      <td>10866.000000</td>\n",
       "      <td>10866.000000</td>\n",
       "      <td>1.086600e+04</td>\n",
       "      <td>1.086600e+04</td>\n",
       "    </tr>\n",
       "    <tr>\n",
       "      <th>mean</th>\n",
       "      <td>66064.177434</td>\n",
       "      <td>0.646441</td>\n",
       "      <td>1.462570e+07</td>\n",
       "      <td>3.982332e+07</td>\n",
       "      <td>102.070863</td>\n",
       "      <td>217.389748</td>\n",
       "      <td>5.974922</td>\n",
       "      <td>2001.322658</td>\n",
       "      <td>1.755104e+07</td>\n",
       "      <td>5.136436e+07</td>\n",
       "    </tr>\n",
       "    <tr>\n",
       "      <th>std</th>\n",
       "      <td>92130.136561</td>\n",
       "      <td>1.000185</td>\n",
       "      <td>3.091321e+07</td>\n",
       "      <td>1.170035e+08</td>\n",
       "      <td>31.381405</td>\n",
       "      <td>575.619058</td>\n",
       "      <td>0.935142</td>\n",
       "      <td>12.812941</td>\n",
       "      <td>3.430616e+07</td>\n",
       "      <td>1.446325e+08</td>\n",
       "    </tr>\n",
       "    <tr>\n",
       "      <th>min</th>\n",
       "      <td>5.000000</td>\n",
       "      <td>0.000065</td>\n",
       "      <td>0.000000e+00</td>\n",
       "      <td>0.000000e+00</td>\n",
       "      <td>0.000000</td>\n",
       "      <td>10.000000</td>\n",
       "      <td>1.500000</td>\n",
       "      <td>1960.000000</td>\n",
       "      <td>0.000000e+00</td>\n",
       "      <td>0.000000e+00</td>\n",
       "    </tr>\n",
       "    <tr>\n",
       "      <th>25%</th>\n",
       "      <td>10596.250000</td>\n",
       "      <td>0.207583</td>\n",
       "      <td>0.000000e+00</td>\n",
       "      <td>0.000000e+00</td>\n",
       "      <td>90.000000</td>\n",
       "      <td>17.000000</td>\n",
       "      <td>5.400000</td>\n",
       "      <td>1995.000000</td>\n",
       "      <td>0.000000e+00</td>\n",
       "      <td>0.000000e+00</td>\n",
       "    </tr>\n",
       "    <tr>\n",
       "      <th>50%</th>\n",
       "      <td>20669.000000</td>\n",
       "      <td>0.383856</td>\n",
       "      <td>0.000000e+00</td>\n",
       "      <td>0.000000e+00</td>\n",
       "      <td>99.000000</td>\n",
       "      <td>38.000000</td>\n",
       "      <td>6.000000</td>\n",
       "      <td>2006.000000</td>\n",
       "      <td>0.000000e+00</td>\n",
       "      <td>0.000000e+00</td>\n",
       "    </tr>\n",
       "    <tr>\n",
       "      <th>75%</th>\n",
       "      <td>75610.000000</td>\n",
       "      <td>0.713817</td>\n",
       "      <td>1.500000e+07</td>\n",
       "      <td>2.400000e+07</td>\n",
       "      <td>111.000000</td>\n",
       "      <td>145.750000</td>\n",
       "      <td>6.600000</td>\n",
       "      <td>2011.000000</td>\n",
       "      <td>2.085325e+07</td>\n",
       "      <td>3.369710e+07</td>\n",
       "    </tr>\n",
       "    <tr>\n",
       "      <th>max</th>\n",
       "      <td>417859.000000</td>\n",
       "      <td>32.985763</td>\n",
       "      <td>4.250000e+08</td>\n",
       "      <td>2.781506e+09</td>\n",
       "      <td>900.000000</td>\n",
       "      <td>9767.000000</td>\n",
       "      <td>9.200000</td>\n",
       "      <td>2015.000000</td>\n",
       "      <td>4.250000e+08</td>\n",
       "      <td>2.827124e+09</td>\n",
       "    </tr>\n",
       "  </tbody>\n",
       "</table>\n",
       "</div>"
      ],
      "text/plain": [
       "                  id    popularity        budget       revenue       runtime  \\\n",
       "count   10866.000000  10866.000000  1.086600e+04  1.086600e+04  10866.000000   \n",
       "mean    66064.177434      0.646441  1.462570e+07  3.982332e+07    102.070863   \n",
       "std     92130.136561      1.000185  3.091321e+07  1.170035e+08     31.381405   \n",
       "min         5.000000      0.000065  0.000000e+00  0.000000e+00      0.000000   \n",
       "25%     10596.250000      0.207583  0.000000e+00  0.000000e+00     90.000000   \n",
       "50%     20669.000000      0.383856  0.000000e+00  0.000000e+00     99.000000   \n",
       "75%     75610.000000      0.713817  1.500000e+07  2.400000e+07    111.000000   \n",
       "max    417859.000000     32.985763  4.250000e+08  2.781506e+09    900.000000   \n",
       "\n",
       "         vote_count  vote_average  release_year    budget_adj   revenue_adj  \n",
       "count  10866.000000  10866.000000  10866.000000  1.086600e+04  1.086600e+04  \n",
       "mean     217.389748      5.974922   2001.322658  1.755104e+07  5.136436e+07  \n",
       "std      575.619058      0.935142     12.812941  3.430616e+07  1.446325e+08  \n",
       "min       10.000000      1.500000   1960.000000  0.000000e+00  0.000000e+00  \n",
       "25%       17.000000      5.400000   1995.000000  0.000000e+00  0.000000e+00  \n",
       "50%       38.000000      6.000000   2006.000000  0.000000e+00  0.000000e+00  \n",
       "75%      145.750000      6.600000   2011.000000  2.085325e+07  3.369710e+07  \n",
       "max     9767.000000      9.200000   2015.000000  4.250000e+08  2.827124e+09  "
      ]
     },
     "execution_count": 451,
     "metadata": {},
     "output_type": "execute_result"
    }
   ],
   "source": [
    "df.describe()"
   ]
  },
  {
   "cell_type": "markdown",
   "metadata": {},
   "source": [
    "As the table shown above, we can find outliers in `popularity` data, but according to the [forum](https://www.themoviedb.org/talk/5141d424760ee34da71431b0), the popularity score is measured by number of favourites and number of watched list etc, since it has no upperbond, I decided to retain the original data. Also, there are a lot of **zero number** in `budget` and `revenue` data, so is `runtime`. Didn't these movies be released? Look at the data in `release_year column`, I find all movies in the dataset are released becauce **the minimum value is 1960 and there is no null value for it**. So I assume the zero values in the `budget` and `revenue` are missing data. But under the risk that these zero values may be just small values, I preceed to take a look for some zero data content to decide whether it is just a missing value or small value."
   ]
  },
  {
   "cell_type": "markdown",
   "metadata": {},
   "source": [
    "Let's take a look at some zero `budget` and `revenue` data."
   ]
  },
  {
   "cell_type": "code",
   "execution_count": 452,
   "metadata": {},
   "outputs": [
    {
     "data": {
      "text/html": [
       "<div>\n",
       "<style>\n",
       "    .dataframe thead tr:only-child th {\n",
       "        text-align: right;\n",
       "    }\n",
       "\n",
       "    .dataframe thead th {\n",
       "        text-align: left;\n",
       "    }\n",
       "\n",
       "    .dataframe tbody tr th {\n",
       "        vertical-align: top;\n",
       "    }\n",
       "</style>\n",
       "<table border=\"1\" class=\"dataframe\">\n",
       "  <thead>\n",
       "    <tr style=\"text-align: right;\">\n",
       "      <th></th>\n",
       "      <th>id</th>\n",
       "      <th>imdb_id</th>\n",
       "      <th>popularity</th>\n",
       "      <th>budget</th>\n",
       "      <th>revenue</th>\n",
       "      <th>original_title</th>\n",
       "      <th>cast</th>\n",
       "      <th>homepage</th>\n",
       "      <th>director</th>\n",
       "      <th>tagline</th>\n",
       "      <th>...</th>\n",
       "      <th>overview</th>\n",
       "      <th>runtime</th>\n",
       "      <th>genres</th>\n",
       "      <th>production_companies</th>\n",
       "      <th>release_date</th>\n",
       "      <th>vote_count</th>\n",
       "      <th>vote_average</th>\n",
       "      <th>release_year</th>\n",
       "      <th>budget_adj</th>\n",
       "      <th>revenue_adj</th>\n",
       "    </tr>\n",
       "  </thead>\n",
       "  <tbody>\n",
       "    <tr>\n",
       "      <th>30</th>\n",
       "      <td>280996</td>\n",
       "      <td>tt3168230</td>\n",
       "      <td>3.927333</td>\n",
       "      <td>0</td>\n",
       "      <td>29355203</td>\n",
       "      <td>Mr. Holmes</td>\n",
       "      <td>Ian McKellen|Milo Parker|Laura Linney|Hattie M...</td>\n",
       "      <td>http://www.mrholmesfilm.com/</td>\n",
       "      <td>Bill Condon</td>\n",
       "      <td>The man behind the myth</td>\n",
       "      <td>...</td>\n",
       "      <td>The story is set in 1947, following a long-ret...</td>\n",
       "      <td>103</td>\n",
       "      <td>Mystery|Drama</td>\n",
       "      <td>BBC Films|See-Saw Films|FilmNation Entertainme...</td>\n",
       "      <td>6/19/15</td>\n",
       "      <td>425</td>\n",
       "      <td>6.4</td>\n",
       "      <td>2015</td>\n",
       "      <td>0.0</td>\n",
       "      <td>2.700677e+07</td>\n",
       "    </tr>\n",
       "    <tr>\n",
       "      <th>36</th>\n",
       "      <td>339527</td>\n",
       "      <td>tt1291570</td>\n",
       "      <td>3.358321</td>\n",
       "      <td>0</td>\n",
       "      <td>22354572</td>\n",
       "      <td>Solace</td>\n",
       "      <td>Abbie Cornish|Jeffrey Dean Morgan|Colin Farrel...</td>\n",
       "      <td>NaN</td>\n",
       "      <td>Afonso Poyart</td>\n",
       "      <td>A serial killer who can see your future, a psy...</td>\n",
       "      <td>...</td>\n",
       "      <td>A psychic doctor, John Clancy, works with an F...</td>\n",
       "      <td>101</td>\n",
       "      <td>Crime|Drama|Mystery</td>\n",
       "      <td>Eden Rock Media|FilmNation Entertainment|Flynn...</td>\n",
       "      <td>9/3/15</td>\n",
       "      <td>474</td>\n",
       "      <td>6.2</td>\n",
       "      <td>2015</td>\n",
       "      <td>0.0</td>\n",
       "      <td>2.056620e+07</td>\n",
       "    </tr>\n",
       "    <tr>\n",
       "      <th>72</th>\n",
       "      <td>284289</td>\n",
       "      <td>tt2911668</td>\n",
       "      <td>2.272044</td>\n",
       "      <td>0</td>\n",
       "      <td>45895</td>\n",
       "      <td>Beyond the Reach</td>\n",
       "      <td>Michael Douglas|Jeremy Irvine|Hanna Mangan Law...</td>\n",
       "      <td>NaN</td>\n",
       "      <td>Jean-Baptiste LÃ©onetti</td>\n",
       "      <td>NaN</td>\n",
       "      <td>...</td>\n",
       "      <td>A high-rolling corporate shark and his impover...</td>\n",
       "      <td>95</td>\n",
       "      <td>Thriller</td>\n",
       "      <td>Furthur Films</td>\n",
       "      <td>4/17/15</td>\n",
       "      <td>81</td>\n",
       "      <td>5.5</td>\n",
       "      <td>2015</td>\n",
       "      <td>0.0</td>\n",
       "      <td>4.222338e+04</td>\n",
       "    </tr>\n",
       "  </tbody>\n",
       "</table>\n",
       "<p>3 rows × 21 columns</p>\n",
       "</div>"
      ],
      "text/plain": [
       "        id    imdb_id  popularity  budget   revenue    original_title  \\\n",
       "30  280996  tt3168230    3.927333       0  29355203        Mr. Holmes   \n",
       "36  339527  tt1291570    3.358321       0  22354572            Solace   \n",
       "72  284289  tt2911668    2.272044       0     45895  Beyond the Reach   \n",
       "\n",
       "                                                 cast  \\\n",
       "30  Ian McKellen|Milo Parker|Laura Linney|Hattie M...   \n",
       "36  Abbie Cornish|Jeffrey Dean Morgan|Colin Farrel...   \n",
       "72  Michael Douglas|Jeremy Irvine|Hanna Mangan Law...   \n",
       "\n",
       "                        homepage                 director  \\\n",
       "30  http://www.mrholmesfilm.com/              Bill Condon   \n",
       "36                           NaN            Afonso Poyart   \n",
       "72                           NaN  Jean-Baptiste LÃ©onetti   \n",
       "\n",
       "                                              tagline      ...       \\\n",
       "30                            The man behind the myth      ...        \n",
       "36  A serial killer who can see your future, a psy...      ...        \n",
       "72                                                NaN      ...        \n",
       "\n",
       "                                             overview runtime  \\\n",
       "30  The story is set in 1947, following a long-ret...     103   \n",
       "36  A psychic doctor, John Clancy, works with an F...     101   \n",
       "72  A high-rolling corporate shark and his impover...      95   \n",
       "\n",
       "                 genres                               production_companies  \\\n",
       "30        Mystery|Drama  BBC Films|See-Saw Films|FilmNation Entertainme...   \n",
       "36  Crime|Drama|Mystery  Eden Rock Media|FilmNation Entertainment|Flynn...   \n",
       "72             Thriller                                      Furthur Films   \n",
       "\n",
       "   release_date vote_count  vote_average  release_year  budget_adj  \\\n",
       "30      6/19/15        425           6.4          2015         0.0   \n",
       "36       9/3/15        474           6.2          2015         0.0   \n",
       "72      4/17/15         81           5.5          2015         0.0   \n",
       "\n",
       "     revenue_adj  \n",
       "30  2.700677e+07  \n",
       "36  2.056620e+07  \n",
       "72  4.222338e+04  \n",
       "\n",
       "[3 rows x 21 columns]"
      ]
     },
     "execution_count": 452,
     "metadata": {},
     "output_type": "execute_result"
    }
   ],
   "source": [
    "#filter the zero budget data\n",
    "df_budget_zero = df.query('budget == 0')\n",
    "# choice the first three randomly\n",
    "df_budget_zero.head(3)"
   ]
  },
  {
   "cell_type": "code",
   "execution_count": 453,
   "metadata": {},
   "outputs": [
    {
     "data": {
      "text/html": [
       "<div>\n",
       "<style>\n",
       "    .dataframe thead tr:only-child th {\n",
       "        text-align: right;\n",
       "    }\n",
       "\n",
       "    .dataframe thead th {\n",
       "        text-align: left;\n",
       "    }\n",
       "\n",
       "    .dataframe tbody tr th {\n",
       "        vertical-align: top;\n",
       "    }\n",
       "</style>\n",
       "<table border=\"1\" class=\"dataframe\">\n",
       "  <thead>\n",
       "    <tr style=\"text-align: right;\">\n",
       "      <th></th>\n",
       "      <th>id</th>\n",
       "      <th>imdb_id</th>\n",
       "      <th>popularity</th>\n",
       "      <th>budget</th>\n",
       "      <th>revenue</th>\n",
       "      <th>original_title</th>\n",
       "      <th>cast</th>\n",
       "      <th>homepage</th>\n",
       "      <th>director</th>\n",
       "      <th>tagline</th>\n",
       "      <th>...</th>\n",
       "      <th>overview</th>\n",
       "      <th>runtime</th>\n",
       "      <th>genres</th>\n",
       "      <th>production_companies</th>\n",
       "      <th>release_date</th>\n",
       "      <th>vote_count</th>\n",
       "      <th>vote_average</th>\n",
       "      <th>release_year</th>\n",
       "      <th>budget_adj</th>\n",
       "      <th>revenue_adj</th>\n",
       "    </tr>\n",
       "  </thead>\n",
       "  <tbody>\n",
       "    <tr>\n",
       "      <th>48</th>\n",
       "      <td>265208</td>\n",
       "      <td>tt2231253</td>\n",
       "      <td>2.932340</td>\n",
       "      <td>30000000</td>\n",
       "      <td>0</td>\n",
       "      <td>Wild Card</td>\n",
       "      <td>Jason Statham|Michael Angarano|Milo Ventimigli...</td>\n",
       "      <td>NaN</td>\n",
       "      <td>Simon West</td>\n",
       "      <td>Never bet against a man with a killer hand.</td>\n",
       "      <td>...</td>\n",
       "      <td>When a Las Vegas bodyguard with lethal skills ...</td>\n",
       "      <td>92</td>\n",
       "      <td>Thriller|Crime|Drama</td>\n",
       "      <td>Current Entertainment|Lionsgate|Sierra / Affin...</td>\n",
       "      <td>1/14/15</td>\n",
       "      <td>481</td>\n",
       "      <td>5.3</td>\n",
       "      <td>2015</td>\n",
       "      <td>2.759999e+07</td>\n",
       "      <td>0.0</td>\n",
       "    </tr>\n",
       "    <tr>\n",
       "      <th>67</th>\n",
       "      <td>334074</td>\n",
       "      <td>tt3247714</td>\n",
       "      <td>2.331636</td>\n",
       "      <td>20000000</td>\n",
       "      <td>0</td>\n",
       "      <td>Survivor</td>\n",
       "      <td>Pierce Brosnan|Milla Jovovich|Dylan McDermott|...</td>\n",
       "      <td>http://survivormovie.com/</td>\n",
       "      <td>James McTeigue</td>\n",
       "      <td>His Next Target is Now Hunting Him</td>\n",
       "      <td>...</td>\n",
       "      <td>A Foreign Service Officer in London tries to p...</td>\n",
       "      <td>96</td>\n",
       "      <td>Crime|Thriller|Action</td>\n",
       "      <td>Nu Image Films|Winkler Films|Millennium Films|...</td>\n",
       "      <td>5/21/15</td>\n",
       "      <td>280</td>\n",
       "      <td>5.4</td>\n",
       "      <td>2015</td>\n",
       "      <td>1.839999e+07</td>\n",
       "      <td>0.0</td>\n",
       "    </tr>\n",
       "    <tr>\n",
       "      <th>74</th>\n",
       "      <td>347096</td>\n",
       "      <td>tt3478232</td>\n",
       "      <td>2.165433</td>\n",
       "      <td>0</td>\n",
       "      <td>0</td>\n",
       "      <td>Mythica: The Darkspore</td>\n",
       "      <td>Melanie Stone|Kevin Sorbo|Adam Johnson|Jake St...</td>\n",
       "      <td>http://www.mythicamovie.com/#!blank/wufvh</td>\n",
       "      <td>Anne K. Black</td>\n",
       "      <td>NaN</td>\n",
       "      <td>...</td>\n",
       "      <td>When Teelaâ€™s sister is murdered and a powerf...</td>\n",
       "      <td>108</td>\n",
       "      <td>Action|Adventure|Fantasy</td>\n",
       "      <td>Arrowstorm Entertainment</td>\n",
       "      <td>6/24/15</td>\n",
       "      <td>27</td>\n",
       "      <td>5.1</td>\n",
       "      <td>2015</td>\n",
       "      <td>0.000000e+00</td>\n",
       "      <td>0.0</td>\n",
       "    </tr>\n",
       "  </tbody>\n",
       "</table>\n",
       "<p>3 rows × 21 columns</p>\n",
       "</div>"
      ],
      "text/plain": [
       "        id    imdb_id  popularity    budget  revenue          original_title  \\\n",
       "48  265208  tt2231253    2.932340  30000000        0               Wild Card   \n",
       "67  334074  tt3247714    2.331636  20000000        0                Survivor   \n",
       "74  347096  tt3478232    2.165433         0        0  Mythica: The Darkspore   \n",
       "\n",
       "                                                 cast  \\\n",
       "48  Jason Statham|Michael Angarano|Milo Ventimigli...   \n",
       "67  Pierce Brosnan|Milla Jovovich|Dylan McDermott|...   \n",
       "74  Melanie Stone|Kevin Sorbo|Adam Johnson|Jake St...   \n",
       "\n",
       "                                     homepage        director  \\\n",
       "48                                        NaN      Simon West   \n",
       "67                  http://survivormovie.com/  James McTeigue   \n",
       "74  http://www.mythicamovie.com/#!blank/wufvh   Anne K. Black   \n",
       "\n",
       "                                        tagline     ...       \\\n",
       "48  Never bet against a man with a killer hand.     ...        \n",
       "67           His Next Target is Now Hunting Him     ...        \n",
       "74                                          NaN     ...        \n",
       "\n",
       "                                             overview runtime  \\\n",
       "48  When a Las Vegas bodyguard with lethal skills ...      92   \n",
       "67  A Foreign Service Officer in London tries to p...      96   \n",
       "74  When Teelaâ€™s sister is murdered and a powerf...     108   \n",
       "\n",
       "                      genres  \\\n",
       "48      Thriller|Crime|Drama   \n",
       "67     Crime|Thriller|Action   \n",
       "74  Action|Adventure|Fantasy   \n",
       "\n",
       "                                 production_companies release_date vote_count  \\\n",
       "48  Current Entertainment|Lionsgate|Sierra / Affin...      1/14/15        481   \n",
       "67  Nu Image Films|Winkler Films|Millennium Films|...      5/21/15        280   \n",
       "74                           Arrowstorm Entertainment      6/24/15         27   \n",
       "\n",
       "    vote_average  release_year    budget_adj  revenue_adj  \n",
       "48           5.3          2015  2.759999e+07          0.0  \n",
       "67           5.4          2015  1.839999e+07          0.0  \n",
       "74           5.1          2015  0.000000e+00          0.0  \n",
       "\n",
       "[3 rows x 21 columns]"
      ]
     },
     "execution_count": 453,
     "metadata": {},
     "output_type": "execute_result"
    }
   ],
   "source": [
    "#filter the zero revenue data\n",
    "df_revenue_zero = df.query('revenue == 0')\n",
    "# choice the first three randomly\n",
    "df_revenue_zero.head(3)"
   ]
  },
  {
   "cell_type": "markdown",
   "metadata": {},
   "source": [
    "Among the `budget` data in zero values, I randomly choose _Mr. Holmes_ and google search it. And I found it's [Wikipedia](https://en.wikipedia.org/wiki/Mr._Holmes#cite_note-2) page and there is **definitely a budget record**. Further more, I also find the same result for `revenue` data in zero value. So **I assume the zero value in revenue and budget column are missing**. Maybe I had better drop them out or set them as null values. Since if I include these quantification number in dateset, It will affect some statistics and the visualiation result in those question.\n",
    "\n",
    "To decide whether to drop them out or set them as null values, I count the number of the zero values in the two columns."
   ]
  },
  {
   "cell_type": "code",
   "execution_count": 454,
   "metadata": {},
   "outputs": [
    {
     "data": {
      "text/plain": [
       "budget\n",
       "0    5696\n",
       "1       4\n",
       "Name: id, dtype: int64"
      ]
     },
     "execution_count": 454,
     "metadata": {},
     "output_type": "execute_result"
    }
   ],
   "source": [
    "#count zero values in budget data using groupby\n",
    "df_budget_0count =  df.groupby('budget').count()['id']\n",
    "df_budget_0count.head(2)"
   ]
  },
  {
   "cell_type": "markdown",
   "metadata": {},
   "source": [
    "I count the zero value in the `budget` cloumn and there are 5696 rows in zero value. In case I drop too many raw data to keep the data integrity, I decide to retain these rows and replace zero values with null values."
   ]
  },
  {
   "cell_type": "markdown",
   "metadata": {},
   "source": [
    "So does the `revenue` column."
   ]
  },
  {
   "cell_type": "code",
   "execution_count": 455,
   "metadata": {},
   "outputs": [
    {
     "data": {
      "text/plain": [
       "revenue\n",
       "0    6016\n",
       "2       2\n",
       "Name: id, dtype: int64"
      ]
     },
     "execution_count": 455,
     "metadata": {},
     "output_type": "execute_result"
    }
   ],
   "source": [
    "#count zero values in revenue data using groupby\n",
    "df_revenue_0count =  df.groupby('revenue').count()['id']\n",
    "df_revenue_0count.head(2)"
   ]
  },
  {
   "cell_type": "markdown",
   "metadata": {},
   "source": [
    "It contains 6016 rows in zero values, so I also dicide to keep these rows and replace zero values with null values."
   ]
  },
  {
   "cell_type": "markdown",
   "metadata": {},
   "source": [
    "Finally, let's investigate the `runtime` column to decide whether drop zero or just replace it with null value."
   ]
  },
  {
   "cell_type": "code",
   "execution_count": 456,
   "metadata": {},
   "outputs": [
    {
     "data": {
      "text/plain": [
       "runtime\n",
       "0    31\n",
       "2     5\n",
       "Name: id, dtype: int64"
      ]
     },
     "execution_count": 456,
     "metadata": {},
     "output_type": "execute_result"
    }
   ],
   "source": [
    "#count zero values in runtime data using groupby\n",
    "df_runtime_0count =  df.groupby('runtime').count()['id']\n",
    "df_runtime_0count.head(2)"
   ]
  },
  {
   "cell_type": "markdown",
   "metadata": {},
   "source": [
    "It's just has a small number of zero value rows in runtime column, so I decide to drop them."
   ]
  },
  {
   "cell_type": "markdown",
   "metadata": {},
   "source": [
    "### Cleaning Decision Summary\n",
    "1. Drop unnecessary columns for answering those questions : `homepage`, `tagline`, `imdb_id`, `overview`,`budget_adj`, `revenue_adj`.\n",
    "2. Drop duplicates.\n",
    "3. Drop null values columns that with small quantity of nulls : `cast`, `director`, and `genres`.\n",
    "4. Replace zero values with null values in the `budget` and `revenue` column.\n",
    "5. Drop zero values columns that with small quantity of zeros : `runtime`."
   ]
  },
  {
   "cell_type": "markdown",
   "metadata": {},
   "source": [
    "### Data Cleaning "
   ]
  },
  {
   "cell_type": "markdown",
   "metadata": {},
   "source": [
    "**First, according to the previous decision, let's drop unncessary columns : `imdb_id`, `homepage`, `tagline`, `overview`.**"
   ]
  },
  {
   "cell_type": "code",
   "execution_count": 457,
   "metadata": {},
   "outputs": [],
   "source": [
    "# After discussing the structure of the data and any problems that need to be\n",
    "#   cleaned, perform those cleaning steps in the second part of this section.\n",
    "# Drop extraneous columns\n",
    "col = ['imdb_id', 'homepage', 'tagline', 'overview', 'budget_adj', 'revenue_adj']\n",
    "df.drop(col, axis=1, inplace=True)"
   ]
  },
  {
   "cell_type": "code",
   "execution_count": 458,
   "metadata": {},
   "outputs": [
    {
     "data": {
      "text/html": [
       "<div>\n",
       "<style>\n",
       "    .dataframe thead tr:only-child th {\n",
       "        text-align: right;\n",
       "    }\n",
       "\n",
       "    .dataframe thead th {\n",
       "        text-align: left;\n",
       "    }\n",
       "\n",
       "    .dataframe tbody tr th {\n",
       "        vertical-align: top;\n",
       "    }\n",
       "</style>\n",
       "<table border=\"1\" class=\"dataframe\">\n",
       "  <thead>\n",
       "    <tr style=\"text-align: right;\">\n",
       "      <th></th>\n",
       "      <th>id</th>\n",
       "      <th>popularity</th>\n",
       "      <th>budget</th>\n",
       "      <th>revenue</th>\n",
       "      <th>original_title</th>\n",
       "      <th>cast</th>\n",
       "      <th>director</th>\n",
       "      <th>keywords</th>\n",
       "      <th>runtime</th>\n",
       "      <th>genres</th>\n",
       "      <th>production_companies</th>\n",
       "      <th>release_date</th>\n",
       "      <th>vote_count</th>\n",
       "      <th>vote_average</th>\n",
       "      <th>release_year</th>\n",
       "    </tr>\n",
       "  </thead>\n",
       "  <tbody>\n",
       "    <tr>\n",
       "      <th>0</th>\n",
       "      <td>135397</td>\n",
       "      <td>32.985763</td>\n",
       "      <td>150000000</td>\n",
       "      <td>1513528810</td>\n",
       "      <td>Jurassic World</td>\n",
       "      <td>Chris Pratt|Bryce Dallas Howard|Irrfan Khan|Vi...</td>\n",
       "      <td>Colin Trevorrow</td>\n",
       "      <td>monster|dna|tyrannosaurus rex|velociraptor|island</td>\n",
       "      <td>124</td>\n",
       "      <td>Action|Adventure|Science Fiction|Thriller</td>\n",
       "      <td>Universal Studios|Amblin Entertainment|Legenda...</td>\n",
       "      <td>6/9/15</td>\n",
       "      <td>5562</td>\n",
       "      <td>6.5</td>\n",
       "      <td>2015</td>\n",
       "    </tr>\n",
       "  </tbody>\n",
       "</table>\n",
       "</div>"
      ],
      "text/plain": [
       "       id  popularity     budget     revenue  original_title  \\\n",
       "0  135397   32.985763  150000000  1513528810  Jurassic World   \n",
       "\n",
       "                                                cast         director  \\\n",
       "0  Chris Pratt|Bryce Dallas Howard|Irrfan Khan|Vi...  Colin Trevorrow   \n",
       "\n",
       "                                            keywords  runtime  \\\n",
       "0  monster|dna|tyrannosaurus rex|velociraptor|island      124   \n",
       "\n",
       "                                      genres  \\\n",
       "0  Action|Adventure|Science Fiction|Thriller   \n",
       "\n",
       "                                production_companies release_date  vote_count  \\\n",
       "0  Universal Studios|Amblin Entertainment|Legenda...       6/9/15        5562   \n",
       "\n",
       "   vote_average  release_year  \n",
       "0           6.5          2015  "
      ]
     },
     "execution_count": 458,
     "metadata": {},
     "output_type": "execute_result"
    }
   ],
   "source": [
    "# see if these columns are dropped.\n",
    "df.head(1)"
   ]
  },
  {
   "cell_type": "markdown",
   "metadata": {},
   "source": [
    "** Drop the duplicates.**"
   ]
  },
  {
   "cell_type": "code",
   "execution_count": 459,
   "metadata": {},
   "outputs": [],
   "source": [
    "#Drop the duplicates\n",
    "df.drop_duplicates(inplace=True)"
   ]
  },
  {
   "cell_type": "markdown",
   "metadata": {},
   "source": [
    "**Then, drop the null values in `cast`, `director`, `genres` columns.**"
   ]
  },
  {
   "cell_type": "code",
   "execution_count": 460,
   "metadata": {},
   "outputs": [],
   "source": [
    "#drop the null values in cast, director, genres columns\n",
    "cal2 = ['cast', 'director', 'genres']\n",
    "df.dropna(subset = cal2, how='any', inplace=True)"
   ]
  },
  {
   "cell_type": "code",
   "execution_count": 461,
   "metadata": {},
   "outputs": [
    {
     "data": {
      "text/plain": [
       "id                         0\n",
       "popularity                 0\n",
       "budget                     0\n",
       "revenue                    0\n",
       "original_title             0\n",
       "cast                       0\n",
       "director                   0\n",
       "keywords                1425\n",
       "runtime                    0\n",
       "genres                     0\n",
       "production_companies     959\n",
       "release_date               0\n",
       "vote_count                 0\n",
       "vote_average               0\n",
       "release_year               0\n",
       "dtype: int64"
      ]
     },
     "execution_count": 461,
     "metadata": {},
     "output_type": "execute_result"
    }
   ],
   "source": [
    "# see if nulls are dropped.\n",
    "df.isnull().sum()"
   ]
  },
  {
   "cell_type": "markdown",
   "metadata": {},
   "source": [
    "**Then, replace zero values with null values in the budget and revenue column.**"
   ]
  },
  {
   "cell_type": "code",
   "execution_count": 462,
   "metadata": {},
   "outputs": [
    {
     "name": "stdout",
     "output_type": "stream",
     "text": [
      "<class 'pandas.core.frame.DataFrame'>\n",
      "Int64Index: 10731 entries, 0 to 10865\n",
      "Data columns (total 15 columns):\n",
      "id                      10731 non-null int64\n",
      "popularity              10731 non-null float64\n",
      "budget                  5153 non-null float64\n",
      "revenue                 4843 non-null float64\n",
      "original_title          10731 non-null object\n",
      "cast                    10731 non-null object\n",
      "director                10731 non-null object\n",
      "keywords                9306 non-null object\n",
      "runtime                 10731 non-null int64\n",
      "genres                  10731 non-null object\n",
      "production_companies    9772 non-null object\n",
      "release_date            10731 non-null object\n",
      "vote_count              10731 non-null int64\n",
      "vote_average            10731 non-null float64\n",
      "release_year            10731 non-null int64\n",
      "dtypes: float64(4), int64(4), object(7)\n",
      "memory usage: 1.3+ MB\n"
     ]
    }
   ],
   "source": [
    "#replace zero values with null values in the budget and revenue column.\n",
    "df['budget'] = df['budget'].replace(0, np.NaN)\n",
    "df['revenue'] = df['revenue'].replace(0, np.NaN)\n",
    "# see if nulls are added in budget and revenue columns\n",
    "df.info()"
   ]
  },
  {
   "cell_type": "markdown",
   "metadata": {},
   "source": [
    "**Finally, drop columns with small quantity of zero values : runtime.**"
   ]
  },
  {
   "cell_type": "code",
   "execution_count": 463,
   "metadata": {},
   "outputs": [
    {
     "data": {
      "text/html": [
       "<div>\n",
       "<style>\n",
       "    .dataframe thead tr:only-child th {\n",
       "        text-align: right;\n",
       "    }\n",
       "\n",
       "    .dataframe thead th {\n",
       "        text-align: left;\n",
       "    }\n",
       "\n",
       "    .dataframe tbody tr th {\n",
       "        vertical-align: top;\n",
       "    }\n",
       "</style>\n",
       "<table border=\"1\" class=\"dataframe\">\n",
       "  <thead>\n",
       "    <tr style=\"text-align: right;\">\n",
       "      <th></th>\n",
       "      <th>id</th>\n",
       "      <th>popularity</th>\n",
       "      <th>budget</th>\n",
       "      <th>revenue</th>\n",
       "      <th>original_title</th>\n",
       "      <th>cast</th>\n",
       "      <th>director</th>\n",
       "      <th>keywords</th>\n",
       "      <th>runtime</th>\n",
       "      <th>genres</th>\n",
       "      <th>production_companies</th>\n",
       "      <th>release_date</th>\n",
       "      <th>vote_count</th>\n",
       "      <th>vote_average</th>\n",
       "      <th>release_year</th>\n",
       "    </tr>\n",
       "  </thead>\n",
       "  <tbody>\n",
       "  </tbody>\n",
       "</table>\n",
       "</div>"
      ],
      "text/plain": [
       "Empty DataFrame\n",
       "Columns: [id, popularity, budget, revenue, original_title, cast, director, keywords, runtime, genres, production_companies, release_date, vote_count, vote_average, release_year]\n",
       "Index: []"
      ]
     },
     "execution_count": 463,
     "metadata": {},
     "output_type": "execute_result"
    }
   ],
   "source": [
    "# directly filter the runtime data with nonzero value\n",
    "df.query('runtime != 0', inplace=True)\n",
    "#check\n",
    "df.query('runtime == 0')"
   ]
  },
  {
   "cell_type": "markdown",
   "metadata": {},
   "source": [
    "### Cleaning Result Summary"
   ]
  },
  {
   "cell_type": "markdown",
   "metadata": {},
   "source": [
    "<b>From the table bellow, we can see that the data in each column are almost clear without too many null values. And my clearning goal is also to keep the data integrity from the original one. Although there are some null values in `keywords` and `production companies` columns, it is still useful for analysis, and in fact the number of their null values are not very huge, so I just kept both of them. The data now with 10703 entries and 17 columns.</b>"
   ]
  },
  {
   "cell_type": "code",
   "execution_count": 464,
   "metadata": {},
   "outputs": [
    {
     "name": "stdout",
     "output_type": "stream",
     "text": [
      "<class 'pandas.core.frame.DataFrame'>\n",
      "Int64Index: 10703 entries, 0 to 10865\n",
      "Data columns (total 15 columns):\n",
      "id                      10703 non-null int64\n",
      "popularity              10703 non-null float64\n",
      "budget                  5150 non-null float64\n",
      "revenue                 4843 non-null float64\n",
      "original_title          10703 non-null object\n",
      "cast                    10703 non-null object\n",
      "director                10703 non-null object\n",
      "keywords                9293 non-null object\n",
      "runtime                 10703 non-null int64\n",
      "genres                  10703 non-null object\n",
      "production_companies    9759 non-null object\n",
      "release_date            10703 non-null object\n",
      "vote_count              10703 non-null int64\n",
      "vote_average            10703 non-null float64\n",
      "release_year            10703 non-null int64\n",
      "dtypes: float64(4), int64(4), object(7)\n",
      "memory usage: 1.3+ MB\n"
     ]
    }
   ],
   "source": [
    "df.info()"
   ]
  },
  {
   "cell_type": "markdown",
   "metadata": {},
   "source": [
    "<b>And from the table bellow, after transfer all zero values to null values in `budget` and `revenue` data, we can see that both the distribution of budget and revenue are much better, without too concentrate on the zero value or small values.  And after deleting the zero values of runtime, we can see the minimum value of runtime is more reasonable.</b>"
   ]
  },
  {
   "cell_type": "code",
   "execution_count": 465,
   "metadata": {},
   "outputs": [
    {
     "data": {
      "text/html": [
       "<div>\n",
       "<style>\n",
       "    .dataframe thead tr:only-child th {\n",
       "        text-align: right;\n",
       "    }\n",
       "\n",
       "    .dataframe thead th {\n",
       "        text-align: left;\n",
       "    }\n",
       "\n",
       "    .dataframe tbody tr th {\n",
       "        vertical-align: top;\n",
       "    }\n",
       "</style>\n",
       "<table border=\"1\" class=\"dataframe\">\n",
       "  <thead>\n",
       "    <tr style=\"text-align: right;\">\n",
       "      <th></th>\n",
       "      <th>id</th>\n",
       "      <th>popularity</th>\n",
       "      <th>budget</th>\n",
       "      <th>revenue</th>\n",
       "      <th>runtime</th>\n",
       "      <th>vote_count</th>\n",
       "      <th>vote_average</th>\n",
       "      <th>release_year</th>\n",
       "    </tr>\n",
       "  </thead>\n",
       "  <tbody>\n",
       "    <tr>\n",
       "      <th>count</th>\n",
       "      <td>10703.000000</td>\n",
       "      <td>10703.000000</td>\n",
       "      <td>5.150000e+03</td>\n",
       "      <td>4.843000e+03</td>\n",
       "      <td>10703.000000</td>\n",
       "      <td>10703.000000</td>\n",
       "      <td>10703.000000</td>\n",
       "      <td>10703.000000</td>\n",
       "    </tr>\n",
       "    <tr>\n",
       "      <th>mean</th>\n",
       "      <td>64904.988321</td>\n",
       "      <td>0.653818</td>\n",
       "      <td>3.084401e+07</td>\n",
       "      <td>8.933981e+07</td>\n",
       "      <td>102.736896</td>\n",
       "      <td>220.333178</td>\n",
       "      <td>5.966112</td>\n",
       "      <td>2001.235355</td>\n",
       "    </tr>\n",
       "    <tr>\n",
       "      <th>std</th>\n",
       "      <td>91161.996308</td>\n",
       "      <td>1.005687</td>\n",
       "      <td>3.893782e+07</td>\n",
       "      <td>1.621546e+08</td>\n",
       "      <td>30.079331</td>\n",
       "      <td>579.481969</td>\n",
       "      <td>0.930155</td>\n",
       "      <td>12.825920</td>\n",
       "    </tr>\n",
       "    <tr>\n",
       "      <th>min</th>\n",
       "      <td>5.000000</td>\n",
       "      <td>0.000188</td>\n",
       "      <td>1.000000e+00</td>\n",
       "      <td>2.000000e+00</td>\n",
       "      <td>3.000000</td>\n",
       "      <td>10.000000</td>\n",
       "      <td>1.500000</td>\n",
       "      <td>1960.000000</td>\n",
       "    </tr>\n",
       "    <tr>\n",
       "      <th>25%</th>\n",
       "      <td>10538.500000</td>\n",
       "      <td>0.211533</td>\n",
       "      <td>6.000000e+06</td>\n",
       "      <td>7.779664e+06</td>\n",
       "      <td>90.000000</td>\n",
       "      <td>17.000000</td>\n",
       "      <td>5.400000</td>\n",
       "      <td>1995.000000</td>\n",
       "    </tr>\n",
       "    <tr>\n",
       "      <th>50%</th>\n",
       "      <td>20235.000000</td>\n",
       "      <td>0.388036</td>\n",
       "      <td>1.750000e+07</td>\n",
       "      <td>3.191160e+07</td>\n",
       "      <td>99.000000</td>\n",
       "      <td>39.000000</td>\n",
       "      <td>6.000000</td>\n",
       "      <td>2006.000000</td>\n",
       "    </tr>\n",
       "    <tr>\n",
       "      <th>75%</th>\n",
       "      <td>73637.000000</td>\n",
       "      <td>0.722438</td>\n",
       "      <td>4.000000e+07</td>\n",
       "      <td>1.000000e+08</td>\n",
       "      <td>112.000000</td>\n",
       "      <td>149.000000</td>\n",
       "      <td>6.600000</td>\n",
       "      <td>2011.000000</td>\n",
       "    </tr>\n",
       "    <tr>\n",
       "      <th>max</th>\n",
       "      <td>417859.000000</td>\n",
       "      <td>32.985763</td>\n",
       "      <td>4.250000e+08</td>\n",
       "      <td>2.781506e+09</td>\n",
       "      <td>900.000000</td>\n",
       "      <td>9767.000000</td>\n",
       "      <td>9.200000</td>\n",
       "      <td>2015.000000</td>\n",
       "    </tr>\n",
       "  </tbody>\n",
       "</table>\n",
       "</div>"
      ],
      "text/plain": [
       "                  id    popularity        budget       revenue       runtime  \\\n",
       "count   10703.000000  10703.000000  5.150000e+03  4.843000e+03  10703.000000   \n",
       "mean    64904.988321      0.653818  3.084401e+07  8.933981e+07    102.736896   \n",
       "std     91161.996308      1.005687  3.893782e+07  1.621546e+08     30.079331   \n",
       "min         5.000000      0.000188  1.000000e+00  2.000000e+00      3.000000   \n",
       "25%     10538.500000      0.211533  6.000000e+06  7.779664e+06     90.000000   \n",
       "50%     20235.000000      0.388036  1.750000e+07  3.191160e+07     99.000000   \n",
       "75%     73637.000000      0.722438  4.000000e+07  1.000000e+08    112.000000   \n",
       "max    417859.000000     32.985763  4.250000e+08  2.781506e+09    900.000000   \n",
       "\n",
       "         vote_count  vote_average  release_year  \n",
       "count  10703.000000  10703.000000  10703.000000  \n",
       "mean     220.333178      5.966112   2001.235355  \n",
       "std      579.481969      0.930155     12.825920  \n",
       "min       10.000000      1.500000   1960.000000  \n",
       "25%       17.000000      5.400000   1995.000000  \n",
       "50%       39.000000      6.000000   2006.000000  \n",
       "75%      149.000000      6.600000   2011.000000  \n",
       "max     9767.000000      9.200000   2015.000000  "
      ]
     },
     "execution_count": 465,
     "metadata": {},
     "output_type": "execute_result"
    }
   ],
   "source": [
    "df.describe()"
   ]
  },
  {
   "cell_type": "markdown",
   "metadata": {},
   "source": [
    "<a id='eda'></a>\n",
    "## Exploratory Data Analysis"
   ]
  },
  {
   "cell_type": "markdown",
   "metadata": {},
   "source": [
    "**<a href=\"#r1\">Research Part 1: General Explore</a>**\n",
    "   - <a href=\"#r1q1\">Question 1: Popularity Over Years.</a>\n",
    "   - <a href=\"#r1q2\">Question 2: The distribution of popularity in different revenue levels in recent five years. </a>\n",
    "   - <a href=\"#r1q3\">Question 3: The distribution of score rating in different revenue levels in recent five years.</a>\n",
    "   \n",
    "**<a href=\"#r2\">Research Part 2 : Find the Properties are Associated with Successful Movies</a>**\n",
    "   - <a href=\"#r2q1\">Question 1: What kinds of properties are associated with movies that have high popularity?</a>\n",
    "   - <a href=\"#r2q2\">Question 2: What kinds of properties are associated with movies that have high voting score?</a>\n",
    "   \n",
    "**<a href=\"#r3\">*Research Part 3 Top Keywords and Genres Trends by Generation</a>**\n",
    "   - <a href=\"#r3q1\">Question 1: Number of movie released year by year.</a>\n",
    "   - <a href=\"#r3q2\">Question 2: Keywords Trends by Generation.</a>\n",
    "   - <a href=\"#r3q3\">Question 3: Genres Trends by Generation.</a>"
   ]
  },
  {
   "cell_type": "markdown",
   "metadata": {},
   "source": [
    "<a id='r1'></a>\n",
    "## Research Part 1: General Explore"
   ]
  },
  {
   "cell_type": "markdown",
   "metadata": {},
   "source": [
    "<a id='r1q1'></a>\n",
    "### Question 1: Popularity Over Years"
   ]
  },
  {
   "cell_type": "markdown",
   "metadata": {},
   "source": [
    "To explore this question, let's take a look of the dataset."
   ]
  },
  {
   "cell_type": "code",
   "execution_count": 466,
   "metadata": {},
   "outputs": [
    {
     "data": {
      "text/html": [
       "<div>\n",
       "<style>\n",
       "    .dataframe thead tr:only-child th {\n",
       "        text-align: right;\n",
       "    }\n",
       "\n",
       "    .dataframe thead th {\n",
       "        text-align: left;\n",
       "    }\n",
       "\n",
       "    .dataframe tbody tr th {\n",
       "        vertical-align: top;\n",
       "    }\n",
       "</style>\n",
       "<table border=\"1\" class=\"dataframe\">\n",
       "  <thead>\n",
       "    <tr style=\"text-align: right;\">\n",
       "      <th></th>\n",
       "      <th>id</th>\n",
       "      <th>popularity</th>\n",
       "      <th>budget</th>\n",
       "      <th>revenue</th>\n",
       "      <th>original_title</th>\n",
       "      <th>cast</th>\n",
       "      <th>director</th>\n",
       "      <th>keywords</th>\n",
       "      <th>runtime</th>\n",
       "      <th>genres</th>\n",
       "      <th>production_companies</th>\n",
       "      <th>release_date</th>\n",
       "      <th>vote_count</th>\n",
       "      <th>vote_average</th>\n",
       "      <th>release_year</th>\n",
       "    </tr>\n",
       "  </thead>\n",
       "  <tbody>\n",
       "    <tr>\n",
       "      <th>0</th>\n",
       "      <td>135397</td>\n",
       "      <td>32.985763</td>\n",
       "      <td>150000000.0</td>\n",
       "      <td>1.513529e+09</td>\n",
       "      <td>Jurassic World</td>\n",
       "      <td>Chris Pratt|Bryce Dallas Howard|Irrfan Khan|Vi...</td>\n",
       "      <td>Colin Trevorrow</td>\n",
       "      <td>monster|dna|tyrannosaurus rex|velociraptor|island</td>\n",
       "      <td>124</td>\n",
       "      <td>Action|Adventure|Science Fiction|Thriller</td>\n",
       "      <td>Universal Studios|Amblin Entertainment|Legenda...</td>\n",
       "      <td>6/9/15</td>\n",
       "      <td>5562</td>\n",
       "      <td>6.5</td>\n",
       "      <td>2015</td>\n",
       "    </tr>\n",
       "    <tr>\n",
       "      <th>1</th>\n",
       "      <td>76341</td>\n",
       "      <td>28.419936</td>\n",
       "      <td>150000000.0</td>\n",
       "      <td>3.784364e+08</td>\n",
       "      <td>Mad Max: Fury Road</td>\n",
       "      <td>Tom Hardy|Charlize Theron|Hugh Keays-Byrne|Nic...</td>\n",
       "      <td>George Miller</td>\n",
       "      <td>future|chase|post-apocalyptic|dystopia|australia</td>\n",
       "      <td>120</td>\n",
       "      <td>Action|Adventure|Science Fiction|Thriller</td>\n",
       "      <td>Village Roadshow Pictures|Kennedy Miller Produ...</td>\n",
       "      <td>5/13/15</td>\n",
       "      <td>6185</td>\n",
       "      <td>7.1</td>\n",
       "      <td>2015</td>\n",
       "    </tr>\n",
       "  </tbody>\n",
       "</table>\n",
       "</div>"
      ],
      "text/plain": [
       "       id  popularity       budget       revenue      original_title  \\\n",
       "0  135397   32.985763  150000000.0  1.513529e+09      Jurassic World   \n",
       "1   76341   28.419936  150000000.0  3.784364e+08  Mad Max: Fury Road   \n",
       "\n",
       "                                                cast         director  \\\n",
       "0  Chris Pratt|Bryce Dallas Howard|Irrfan Khan|Vi...  Colin Trevorrow   \n",
       "1  Tom Hardy|Charlize Theron|Hugh Keays-Byrne|Nic...    George Miller   \n",
       "\n",
       "                                            keywords  runtime  \\\n",
       "0  monster|dna|tyrannosaurus rex|velociraptor|island      124   \n",
       "1   future|chase|post-apocalyptic|dystopia|australia      120   \n",
       "\n",
       "                                      genres  \\\n",
       "0  Action|Adventure|Science Fiction|Thriller   \n",
       "1  Action|Adventure|Science Fiction|Thriller   \n",
       "\n",
       "                                production_companies release_date  vote_count  \\\n",
       "0  Universal Studios|Amblin Entertainment|Legenda...       6/9/15        5562   \n",
       "1  Village Roadshow Pictures|Kennedy Miller Produ...      5/13/15        6185   \n",
       "\n",
       "   vote_average  release_year  \n",
       "0           6.5          2015  \n",
       "1           7.1          2015  "
      ]
     },
     "execution_count": 466,
     "metadata": {},
     "output_type": "execute_result"
    }
   ],
   "source": [
    "df.head(2)"
   ]
  },
  {
   "cell_type": "markdown",
   "metadata": {},
   "source": [
    "To analysis the question, I computed the mean of popularity in each year, and then plot lines to see the trends. Moreever, since the popularity has no upper bound, in case the mean of popularity is affected by the outlier, I also compute the median for analysising this question. "
   ]
  },
  {
   "cell_type": "code",
   "execution_count": 467,
   "metadata": {},
   "outputs": [
    {
     "data": {
      "text/plain": [
       "release_year\n",
       "2011    0.685607\n",
       "2012    0.620326\n",
       "2013    0.639309\n",
       "2014    0.910027\n",
       "2015    1.055081\n",
       "Name: popularity, dtype: float64"
      ]
     },
     "execution_count": 467,
     "metadata": {},
     "output_type": "execute_result"
    }
   ],
   "source": [
    "# compute the mean for popularity\n",
    "p_mean = df.groupby('release_year').mean()['popularity']\n",
    "p_mean.tail()"
   ]
  },
  {
   "cell_type": "code",
   "execution_count": 468,
   "metadata": {},
   "outputs": [
    {
     "data": {
      "text/plain": [
       "release_year\n",
       "2011    0.420930\n",
       "2012    0.344263\n",
       "2013    0.356506\n",
       "2014    0.383337\n",
       "2015    0.407396\n",
       "Name: popularity, dtype: float64"
      ]
     },
     "execution_count": 468,
     "metadata": {},
     "output_type": "execute_result"
    }
   ],
   "source": [
    "# compute the median for popularity\n",
    "p_median = df.groupby('release_year').median()['popularity']\n",
    "p_median.tail()"
   ]
  },
  {
   "cell_type": "markdown",
   "metadata": {},
   "source": [
    "We can see that the median data for popularity is more smoother.\n",
    "\n",
    "Now, let's visualize it."
   ]
  },
  {
   "cell_type": "code",
   "execution_count": 469,
   "metadata": {},
   "outputs": [],
   "source": [
    "# build the index location for x-axis\n",
    "index_mean = p_mean.index\n",
    "index_median = p_median.index"
   ]
  },
  {
   "cell_type": "code",
   "execution_count": 470,
   "metadata": {
    "scrolled": true
   },
   "outputs": [
    {
     "data": {
      "text/plain": [
       "<matplotlib.legend.Legend at 0x7ff958e08438>"
      ]
     },
     "execution_count": 470,
     "metadata": {},
     "output_type": "execute_result"
    },
    {
     "data": {
      "image/png": "[encoded data removed]",
      "text/plain": [
       "<matplotlib.figure.Figure at 0x7ff9569ceb38>"
      ]
     },
     "metadata": {},
     "output_type": "display_data"
    }
   ],
   "source": [
    "#set style\n",
    "sns.set_style('whitegrid')\n",
    "#set x, y axis data\n",
    "#x1, y1 for mean data; x2, y2 for median data\n",
    "x1, y1 = index_mean, p_mean\n",
    "x2, y2 = index_median, p_median\n",
    "#set size\n",
    "plt.figure(figsize=(9, 4))\n",
    "#plot line chart for mean and median\n",
    "plt.plot(x1, y1, color = 'g', label = 'mean')\n",
    "plt.plot(x2, y2, color = 'r', label = 'median')\n",
    "#set title and labels\n",
    "plt.title('Popularity Over Years')\n",
    "plt.xlabel('Year')\n",
    "plt.ylabel('Popularity');\n",
    "#set legend\n",
    "plt.legend(loc='upper left')"
   ]
  },
  {
   "cell_type": "markdown",
   "metadata": {},
   "source": [
    "From the figure above, we can see that the trend of popularity mean is upward year to year, and the peak is in the 2015, while the trend of popularity median is slightly smoother in recent years. We still can conclude that on average, popularity over years is going up in recent years. The trend is reasonable due to the eaiser access of movie information nowadays. Moreover, in the Internet age, people can easily search and gether movie information, even watch the content through different sources. Maybe it is such the backgroud that boost the movie popularity metrics."
   ]
  },
  {
   "cell_type": "markdown",
   "metadata": {},
   "source": [
    "<a id='r1q2'></a>\n",
    "### Question 2: The distribution of popularity in different revenue levels in recent five years. "
   ]
  },
  {
   "cell_type": "markdown",
   "metadata": {},
   "source": [
    "The movies popularity is growing up in recently years, but how about the popularity in different revenue levels? will popularity be more higher in high revenue level? In this research I don't dicuss the revenue trend since it is affected by many factors like inflation. Although the database contains the adjusted data but I just want the analysis be more simple. Moreever, if I find out the movie revenue trend is growing up, it still can't infer that the trend up is related to popularity just by looking the revenue trend line chart year by yaer.\n",
    "\n",
    "Hence, it leads me that what to find out the distribution of popularity look like in terms of different revenue levels. Which means I can see the what popularity with which revenue levels.  Dou to the revenue data contains wide range, to be more specific, I divided the revenue data into five levels: Low', 'Medium', 'Moderately High', 'High' according to their quartile. Also I choose the recent five years data to dicuss in order to focus on the current data feature."
   ]
  },
  {
   "cell_type": "markdown",
   "metadata": {},
   "source": [
    "**For the further usage of the level-diveded procedure with quartile, I build a `cut_into_quantile` function to divided data into four levels according to their quartile: 'Low', 'Medium', 'Moderately High', 'High'.**"
   ]
  },
  {
   "cell_type": "markdown",
   "metadata": {},
   "source": [
    "**The cut_into_quantile function- general use.**"
   ]
  },
  {
   "cell_type": "code",
   "execution_count": 471,
   "metadata": {},
   "outputs": [],
   "source": [
    "# quartile function\n",
    "def cut_into_quantile(dfname ,column_name):\n",
    "# find quartile, max and min values\n",
    "    min_value = dfname[column_name].min()\n",
    "    first_quantile = dfname[column_name].describe()[4]\n",
    "    second_quantile = dfname[column_name].describe()[5]\n",
    "    third_quantile = dfname[column_name].describe()[6]\n",
    "    max_value = dfname[column_name].max()\n",
    "# Bin edges that will be used to \"cut\" the data into groups\n",
    "    bin_edges = [ min_value, first_quantile, second_quantile, third_quantile, max_value]\n",
    "# Labels for the four budget level groups\n",
    "    bin_names = [ 'Low', 'Medium', 'Moderately High', 'High'] \n",
    "# Creates budget_levels column\n",
    "    name = '{}_levels'.format(column_name)\n",
    "    dfname[name] = pd.cut(dfname[column_name], bin_edges, labels=bin_names, include_lowest = True)\n",
    "    return dfname"
   ]
  },
  {
   "cell_type": "markdown",
   "metadata": {},
   "source": [
    "**Since I want to explore the data by year to year in the question, so to avoide the different level affecting among each year's revenue, I divide revenue levels by with each year's revenue quartile .**"
   ]
  },
  {
   "cell_type": "code",
   "execution_count": 472,
   "metadata": {
    "scrolled": false
   },
   "outputs": [
    {
     "name": "stderr",
     "output_type": "stream",
     "text": [
      "/opt/conda/lib/python3.6/site-packages/ipykernel_launcher.py:15: SettingWithCopyWarning: \n",
      "A value is trying to be set on a copy of a slice from a DataFrame.\n",
      "Try using .loc[row_indexer,col_indexer] = value instead\n",
      "\n",
      "See the caveats in the documentation: http://pandas.pydata.org/pandas-docs/stable/indexing.html#indexing-view-versus-copy\n",
      "  from ipykernel import kernelapp as app\n"
     ]
    },
    {
     "name": "stdout",
     "output_type": "stream",
     "text": [
      "<class 'pandas.core.frame.DataFrame'>\n",
      "Int64Index: 3035 entries, 3371 to 628\n",
      "Data columns (total 16 columns):\n",
      "id                      3035 non-null int64\n",
      "popularity              3035 non-null float64\n",
      "budget                  1227 non-null float64\n",
      "revenue                 1143 non-null float64\n",
      "original_title          3035 non-null object\n",
      "cast                    3035 non-null object\n",
      "director                3035 non-null object\n",
      "keywords                2385 non-null object\n",
      "runtime                 3035 non-null int64\n",
      "genres                  3035 non-null object\n",
      "production_companies    2703 non-null object\n",
      "release_date            3035 non-null object\n",
      "vote_count              3035 non-null int64\n",
      "vote_average            3035 non-null float64\n",
      "release_year            3035 non-null int64\n",
      "revenue_levels          1143 non-null category\n",
      "dtypes: category(1), float64(4), int64(4), object(7)\n",
      "memory usage: 382.5+ KB\n"
     ]
    }
   ],
   "source": [
    "#choose the recent five years \n",
    "dfyear =[2011,2012,2013,2014,2015]\n",
    "#creat a empty dataframe,df_q2\n",
    "df_q2 = pd.DataFrame()\n",
    "\n",
    "#for each year, do the following procedure\n",
    "for year in dfyear:\n",
    "    dfn = df.query('release_year == \"%s\"' % year) # first filter dataframe with the selected year \n",
    "    dfn2 = cut_into_quantile(dfn,'revenue') #apply the cut_into_quantile with the selected frame, store it to dfn2 \n",
    "    df_q2 = df_q2.append(dfn2) #append dfn2 to df_q2\n",
    "df_q2.info()"
   ]
  },
  {
   "cell_type": "markdown",
   "metadata": {},
   "source": [
    "Now we can see we create a `revenue_levels` column with the same rows with `revenue`."
   ]
  },
  {
   "cell_type": "markdown",
   "metadata": {},
   "source": [
    "Then use the dataset to explore the popularity in each level each year."
   ]
  },
  {
   "cell_type": "code",
   "execution_count": 473,
   "metadata": {
    "scrolled": true
   },
   "outputs": [
    {
     "data": {
      "text/html": [
       "<div>\n",
       "<style>\n",
       "    .dataframe thead tr:only-child th {\n",
       "        text-align: right;\n",
       "    }\n",
       "\n",
       "    .dataframe thead th {\n",
       "        text-align: left;\n",
       "    }\n",
       "\n",
       "    .dataframe tbody tr th {\n",
       "        vertical-align: top;\n",
       "    }\n",
       "</style>\n",
       "<table border=\"1\" class=\"dataframe\">\n",
       "  <thead>\n",
       "    <tr style=\"text-align: right;\">\n",
       "      <th></th>\n",
       "      <th></th>\n",
       "      <th>id</th>\n",
       "      <th>popularity</th>\n",
       "      <th>budget</th>\n",
       "      <th>revenue</th>\n",
       "      <th>runtime</th>\n",
       "      <th>vote_count</th>\n",
       "      <th>vote_average</th>\n",
       "    </tr>\n",
       "    <tr>\n",
       "      <th>release_year</th>\n",
       "      <th>revenue_levels</th>\n",
       "      <th></th>\n",
       "      <th></th>\n",
       "      <th></th>\n",
       "      <th></th>\n",
       "      <th></th>\n",
       "      <th></th>\n",
       "      <th></th>\n",
       "    </tr>\n",
       "  </thead>\n",
       "  <tbody>\n",
       "    <tr>\n",
       "      <th rowspan=\"4\" valign=\"top\">2014</th>\n",
       "      <th>Low</th>\n",
       "      <td>244783.0</td>\n",
       "      <td>0.559472</td>\n",
       "      <td>5500000.0</td>\n",
       "      <td>149337.0</td>\n",
       "      <td>96.0</td>\n",
       "      <td>129.0</td>\n",
       "      <td>6.00</td>\n",
       "    </tr>\n",
       "    <tr>\n",
       "      <th>Medium</th>\n",
       "      <td>234200.0</td>\n",
       "      <td>0.778247</td>\n",
       "      <td>6000000.0</td>\n",
       "      <td>6833445.0</td>\n",
       "      <td>102.0</td>\n",
       "      <td>234.0</td>\n",
       "      <td>6.30</td>\n",
       "    </tr>\n",
       "    <tr>\n",
       "      <th>Moderately High</th>\n",
       "      <td>227157.5</td>\n",
       "      <td>1.144553</td>\n",
       "      <td>22000000.0</td>\n",
       "      <td>53506007.5</td>\n",
       "      <td>106.0</td>\n",
       "      <td>478.5</td>\n",
       "      <td>6.30</td>\n",
       "    </tr>\n",
       "    <tr>\n",
       "      <th>High</th>\n",
       "      <td>157350.0</td>\n",
       "      <td>3.327799</td>\n",
       "      <td>68000000.0</td>\n",
       "      <td>268031828.0</td>\n",
       "      <td>113.0</td>\n",
       "      <td>1829.0</td>\n",
       "      <td>6.60</td>\n",
       "    </tr>\n",
       "    <tr>\n",
       "      <th rowspan=\"4\" valign=\"top\">2015</th>\n",
       "      <th>Low</th>\n",
       "      <td>301284.0</td>\n",
       "      <td>0.506000</td>\n",
       "      <td>7500000.0</td>\n",
       "      <td>228615.0</td>\n",
       "      <td>98.5</td>\n",
       "      <td>79.5</td>\n",
       "      <td>5.85</td>\n",
       "    </tr>\n",
       "    <tr>\n",
       "      <th>Medium</th>\n",
       "      <td>272606.5</td>\n",
       "      <td>0.921828</td>\n",
       "      <td>13000000.0</td>\n",
       "      <td>11893552.5</td>\n",
       "      <td>105.0</td>\n",
       "      <td>242.5</td>\n",
       "      <td>6.15</td>\n",
       "    </tr>\n",
       "    <tr>\n",
       "      <th>Moderately High</th>\n",
       "      <td>273980.0</td>\n",
       "      <td>1.750452</td>\n",
       "      <td>19000000.0</td>\n",
       "      <td>61365324.5</td>\n",
       "      <td>108.0</td>\n",
       "      <td>614.5</td>\n",
       "      <td>6.40</td>\n",
       "    </tr>\n",
       "    <tr>\n",
       "      <th>High</th>\n",
       "      <td>253770.0</td>\n",
       "      <td>3.923328</td>\n",
       "      <td>81000000.0</td>\n",
       "      <td>244935102.0</td>\n",
       "      <td>117.0</td>\n",
       "      <td>1576.5</td>\n",
       "      <td>6.50</td>\n",
       "    </tr>\n",
       "  </tbody>\n",
       "</table>\n",
       "</div>"
      ],
      "text/plain": [
       "                                    id  popularity      budget      revenue  \\\n",
       "release_year revenue_levels                                                   \n",
       "2014         Low              244783.0    0.559472   5500000.0     149337.0   \n",
       "             Medium           234200.0    0.778247   6000000.0    6833445.0   \n",
       "             Moderately High  227157.5    1.144553  22000000.0   53506007.5   \n",
       "             High             157350.0    3.327799  68000000.0  268031828.0   \n",
       "2015         Low              301284.0    0.506000   7500000.0     228615.0   \n",
       "             Medium           272606.5    0.921828  13000000.0   11893552.5   \n",
       "             Moderately High  273980.0    1.750452  19000000.0   61365324.5   \n",
       "             High             253770.0    3.923328  81000000.0  244935102.0   \n",
       "\n",
       "                              runtime  vote_count  vote_average  \n",
       "release_year revenue_levels                                      \n",
       "2014         Low                 96.0       129.0          6.00  \n",
       "             Medium             102.0       234.0          6.30  \n",
       "             Moderately High    106.0       478.5          6.30  \n",
       "             High               113.0      1829.0          6.60  \n",
       "2015         Low                 98.5        79.5          5.85  \n",
       "             Medium             105.0       242.5          6.15  \n",
       "             Moderately High    108.0       614.5          6.40  \n",
       "             High               117.0      1576.5          6.50  "
      ]
     },
     "execution_count": 473,
     "metadata": {},
     "output_type": "execute_result"
    }
   ],
   "source": [
    "# group the dataframe we created above with each revenue levels in each year, find the popularity meadian\n",
    "dfq2_summary = df_q2.groupby(['release_year','revenue_levels']).median()\n",
    "dfq2_summary.tail(8)"
   ]
  },
  {
   "cell_type": "markdown",
   "metadata": {},
   "source": [
    "**Then plot a bar chart.**"
   ]
  },
  {
   "cell_type": "code",
   "execution_count": 474,
   "metadata": {},
   "outputs": [
    {
     "data": {
      "image/png": "[encoded data removed]",
      "text/plain": [
       "<matplotlib.figure.Figure at 0x7ff95989be10>"
      ]
     },
     "metadata": {},
     "output_type": "display_data"
    }
   ],
   "source": [
    "# Setting the positions and width for the bars\n",
    "pos = list(range(len(dfq2_summary.query('revenue_levels ==\"Low\"'))))\n",
    "width = 0.2 \n",
    "\n",
    "# Plotting the bars\n",
    "fig, ax = plt.subplots(figsize=(10,5))\n",
    "\n",
    "# Create a bar with Low data, in position pos,\n",
    "plt.bar(pos, \n",
    "        #using 'Low' data,\n",
    "        dfq2_summary.query('revenue_levels ==\"Low\"')['popularity'], \n",
    "        # of width\n",
    "        width, \n",
    "        # with alpha 0.5\n",
    "        alpha=0.5, \n",
    "        # with color\n",
    "        color='#EE3224', \n",
    "        # with label Low\n",
    "        label= 'Low') \n",
    "\n",
    "# Create a bar with Medium data,\n",
    "# in position pos + some width buffer,\n",
    "plt.bar([p + width for p in pos], \n",
    "        #using Medium data,\n",
    "        dfq2_summary.query('revenue_levels ==\"Medium\"')['popularity'],\n",
    "        # of width\n",
    "        width, \n",
    "        # with alpha 0.5\n",
    "        alpha=0.5, \n",
    "        # with color\n",
    "        color='#F78F1E', \n",
    "        # with label Medium\n",
    "        label='Medium') \n",
    "\n",
    "# Create a bar with Moderately High data,\n",
    "# in position pos + some width buffer,\n",
    "plt.bar([p + width*2 for p in pos], \n",
    "        #using Moderately High data,\n",
    "        dfq2_summary.query('revenue_levels ==\"Moderately High\"')['popularity'], \n",
    "        # of width\n",
    "        width, \n",
    "        # with alpha 0.5\n",
    "        alpha=0.5, \n",
    "        # with color\n",
    "        color='#FFC222', \n",
    "        # with label Moderately High\n",
    "        label='Moderately High') \n",
    "\n",
    "# Create a bar with High data,\n",
    "# in position pos + some width buffer,\n",
    "plt.bar([p + width*3 for p in pos], \n",
    "        #using High data,\n",
    "        dfq2_summary.query('revenue_levels ==\"High\"')['popularity'], \n",
    "        # of width\n",
    "        width, \n",
    "        # with alpha 0.5\n",
    "        alpha=0.5, \n",
    "        # with color\n",
    "        color='#4fb427', \n",
    "        # with label High\n",
    "        label='High')\n",
    "\n",
    "# Set the y axis label\n",
    "ax.set_ylabel('popularity')\n",
    "\n",
    "# Set the chart's title\n",
    "ax.set_title('Popularity in Different Revenue Levels in Recent Five Years')\n",
    "\n",
    "# Set the position of the x ticks\n",
    "ax.set_xticks([p + 1.5 * width for p in pos])\n",
    "\n",
    "# Set the labels for the x ticks\n",
    "ax.set_xticklabels([2011,2012,2013,2014,2015])\n",
    "\n",
    "# Adding the legend and showing the plot\n",
    "plt.legend( loc='upper left')\n",
    "plt.grid()\n",
    "plt.show()"
   ]
  },
  {
   "cell_type": "markdown",
   "metadata": {},
   "source": [
    "**We can see that movies with higher revenue level are with higher popularity in recent five years.**\n",
    "\n",
    "We can see that revenue level has postive relation with popularity. The result is reasonable since it makes me think of if movie producer wants to make high revenue movies, the first thing they always is **to promote it and make it popular.** So according the result from the previous question, I infer that a high revenue movie is always with a higher popularity than movies with lower revenue levels. So if we define success of a movie is it's revenue, one property it has is the high popularity.\n",
    "\n",
    "**But what about the score rating distribution in different revenue levels of movies? Does high revenue level movie has the property of high score rating?** Let's explore on the next question."
   ]
  },
  {
   "cell_type": "markdown",
   "metadata": {},
   "source": [
    "<a id='r1q3'></a>\n",
    "### Question 3: The distribution of revenue in different score rating levels in recent five years. "
   ]
  },
  {
   "cell_type": "markdown",
   "metadata": {},
   "source": [
    "Use the same procedure on Question 2 to explore this question."
   ]
  },
  {
   "cell_type": "code",
   "execution_count": 475,
   "metadata": {
    "scrolled": true
   },
   "outputs": [
    {
     "data": {
      "text/html": [
       "<div>\n",
       "<style>\n",
       "    .dataframe thead tr:only-child th {\n",
       "        text-align: right;\n",
       "    }\n",
       "\n",
       "    .dataframe thead th {\n",
       "        text-align: left;\n",
       "    }\n",
       "\n",
       "    .dataframe tbody tr th {\n",
       "        vertical-align: top;\n",
       "    }\n",
       "</style>\n",
       "<table border=\"1\" class=\"dataframe\">\n",
       "  <thead>\n",
       "    <tr style=\"text-align: right;\">\n",
       "      <th></th>\n",
       "      <th></th>\n",
       "      <th>id</th>\n",
       "      <th>popularity</th>\n",
       "      <th>budget</th>\n",
       "      <th>revenue</th>\n",
       "      <th>runtime</th>\n",
       "      <th>vote_count</th>\n",
       "      <th>vote_average</th>\n",
       "    </tr>\n",
       "    <tr>\n",
       "      <th>release_year</th>\n",
       "      <th>revenue_levels</th>\n",
       "      <th></th>\n",
       "      <th></th>\n",
       "      <th></th>\n",
       "      <th></th>\n",
       "      <th></th>\n",
       "      <th></th>\n",
       "      <th></th>\n",
       "    </tr>\n",
       "  </thead>\n",
       "  <tbody>\n",
       "    <tr>\n",
       "      <th rowspan=\"4\" valign=\"top\">2015</th>\n",
       "      <th>Low</th>\n",
       "      <td>288091.296296</td>\n",
       "      <td>0.672883</td>\n",
       "      <td>7.802640e+06</td>\n",
       "      <td>7.311892e+05</td>\n",
       "      <td>101.851852</td>\n",
       "      <td>106.592593</td>\n",
       "      <td>5.918519</td>\n",
       "    </tr>\n",
       "    <tr>\n",
       "      <th>Medium</th>\n",
       "      <td>268269.129630</td>\n",
       "      <td>1.224921</td>\n",
       "      <td>1.779000e+07</td>\n",
       "      <td>1.399316e+07</td>\n",
       "      <td>105.092593</td>\n",
       "      <td>266.703704</td>\n",
       "      <td>6.103704</td>\n",
       "    </tr>\n",
       "    <tr>\n",
       "      <th>Moderately High</th>\n",
       "      <td>267348.962963</td>\n",
       "      <td>2.017584</td>\n",
       "      <td>2.311923e+07</td>\n",
       "      <td>6.356421e+07</td>\n",
       "      <td>107.537037</td>\n",
       "      <td>684.018519</td>\n",
       "      <td>6.362963</td>\n",
       "    </tr>\n",
       "    <tr>\n",
       "      <th>High</th>\n",
       "      <td>219819.685185</td>\n",
       "      <td>5.369140</td>\n",
       "      <td>9.754528e+07</td>\n",
       "      <td>4.173124e+08</td>\n",
       "      <td>117.703704</td>\n",
       "      <td>1952.944444</td>\n",
       "      <td>6.496296</td>\n",
       "    </tr>\n",
       "  </tbody>\n",
       "</table>\n",
       "</div>"
      ],
      "text/plain": [
       "                                         id  popularity        budget  \\\n",
       "release_year revenue_levels                                             \n",
       "2015         Low              288091.296296    0.672883  7.802640e+06   \n",
       "             Medium           268269.129630    1.224921  1.779000e+07   \n",
       "             Moderately High  267348.962963    2.017584  2.311923e+07   \n",
       "             High             219819.685185    5.369140  9.754528e+07   \n",
       "\n",
       "                                   revenue     runtime   vote_count  \\\n",
       "release_year revenue_levels                                           \n",
       "2015         Low              7.311892e+05  101.851852   106.592593   \n",
       "             Medium           1.399316e+07  105.092593   266.703704   \n",
       "             Moderately High  6.356421e+07  107.537037   684.018519   \n",
       "             High             4.173124e+08  117.703704  1952.944444   \n",
       "\n",
       "                              vote_average  \n",
       "release_year revenue_levels                 \n",
       "2015         Low                  5.918519  \n",
       "             Medium               6.103704  \n",
       "             Moderately High      6.362963  \n",
       "             High                 6.496296  "
      ]
     },
     "execution_count": 475,
     "metadata": {},
     "output_type": "execute_result"
    }
   ],
   "source": [
    "# group the dataframe we created above with each revenue levels in each year, find the vote_average mean\n",
    "dfq2_summary = df_q2.groupby(['release_year','revenue_levels']).mean()\n",
    "dfq2_summary.tail(4)"
   ]
  },
  {
   "cell_type": "markdown",
   "metadata": {},
   "source": [
    "Plot the bar chart."
   ]
  },
  {
   "cell_type": "code",
   "execution_count": 476,
   "metadata": {
    "scrolled": false
   },
   "outputs": [
    {
     "data": {
      "image/png": "[encoded data removed]",
      "text/plain": [
       "<matplotlib.figure.Figure at 0x7ff95b5c71d0>"
      ]
     },
     "metadata": {},
     "output_type": "display_data"
    }
   ],
   "source": [
    "# Setting the positions and width for the bars\n",
    "pos = list(range(len(dfq2_summary.query('revenue_levels ==\"Low\"'))))\n",
    "width = 0.2 \n",
    "\n",
    "# Plotting the bars\n",
    "fig, ax = plt.subplots(figsize=(12,3))\n",
    "\n",
    "# Create a bar with Low data, in position pos,\n",
    "plt.bar(pos, \n",
    "        #using 'Low' data,\n",
    "        dfq2_summary.query('revenue_levels ==\"Low\"')['vote_average'], \n",
    "        # of width\n",
    "        width, \n",
    "        # with alpha 0.5\n",
    "        alpha=0.5, \n",
    "        # with color\n",
    "        color='#EE3224', \n",
    "        # with label Low\n",
    "        label= 'Low') \n",
    "\n",
    "# Create a bar with Medium data,\n",
    "# in position pos + some width buffer,\n",
    "plt.bar([p + width for p in pos], \n",
    "        #using Medium data,\n",
    "        dfq2_summary.query('revenue_levels ==\"Medium\"')['vote_average'],\n",
    "        # of width\n",
    "        width, \n",
    "        # with alpha 0.5\n",
    "        alpha=0.5, \n",
    "        # with color\n",
    "        color='#F78F1E', \n",
    "        # with label Medium\n",
    "        label='Medium') \n",
    "\n",
    "# Create a bar with Moderately High data,\n",
    "# in position pos + some width buffer,\n",
    "plt.bar([p + width*2 for p in pos], \n",
    "        #using Moderately High data,\n",
    "        dfq2_summary.query('revenue_levels ==\"Moderately High\"')['vote_average'], \n",
    "        # of width\n",
    "        width, \n",
    "        # with alpha 0.5\n",
    "        alpha=0.5, \n",
    "        # with color\n",
    "        color='#FFC222', \n",
    "        # with label Moderately High\n",
    "        label='Moderately High') \n",
    "\n",
    "# Create a bar with High data,\n",
    "# in position pos + some width buffer,\n",
    "plt.bar([p + width*3 for p in pos], \n",
    "        #using High data,\n",
    "        dfq2_summary.query('revenue_levels ==\"High\"')['vote_average'], \n",
    "        # of width\n",
    "        width, \n",
    "        # with alpha 0.5\n",
    "        alpha=0.5, \n",
    "        # with color\n",
    "        color='#4fb427', \n",
    "        # with label High\n",
    "        label='High')\n",
    "\n",
    "# Set the y axis label\n",
    "ax.set_ylabel('vote average')\n",
    "\n",
    "# Set the chart's title\n",
    "ax.set_title('Vote Average Score in Different Revenue Levels in Recent Five Years')\n",
    "\n",
    "# Set the position of the x ticks\n",
    "ax.set_xticks([p + 1.5 * width for p in pos])\n",
    "\n",
    "# Set the labels for the x ticks\n",
    "ax.set_xticklabels([2011,2012,2013,2014,2015])\n",
    "\n",
    "#set y-axis height\n",
    "plt.ylim(3, 10)\n",
    "\n",
    "# Adding the legend and showing the plot\n",
    "plt.legend(loc='upper left')\n",
    "plt.grid()\n",
    "plt.show()"
   ]
  },
  {
   "cell_type": "markdown",
   "metadata": {},
   "source": [
    "From the chart above, we can see that there is no big difference of movie rating between each revenue level. So it can be concluded that the high revenue movies don't have the significant high score rating."
   ]
  },
  {
   "cell_type": "markdown",
   "metadata": {},
   "source": [
    "## Part 1 Question Explore Summary"
   ]
  },
  {
   "cell_type": "markdown",
   "metadata": {},
   "source": [
    "<b>\n",
    "1. Movie popularity trend is growing from 1960, I infer that it is with the background that nowadays movie information and rating system are more accessible by Internet with different channels.\n",
    "2. Movies with higher revenue level are with higher popularity in recent five years. In other words, a high revenue movie always with a higher popularity. So on the next part, I will explore: `What's properties that are associated with high popularity movies?` \n",
    "3. Movies with higher revenue level don't have the significant high score rating than other revenue levels in recent five years. So on the next part, I will explore: `What's properties that are associated with high rating movies?`\n",
    "</b>\n"
   ]
  },
  {
   "cell_type": "markdown",
   "metadata": {},
   "source": [
    "<a id='r2'></a>\n",
    "## Research Part 2 : Find the Properties are Associated with Successful Movies\n",
    "- <b>Question 1: What kinds of properties are associated with movies that have high popularity?</b>\n",
    "    1. What's the budget level movie are associated with movies that have high popularity?\n",
    "    2. What's the runtime level are associated with movies that have high popularity on average?\n",
    "    3. What's casts, directors, keywords, genres and production companies are associated with high popularity?\n",
    "    \n",
    "\n",
    "- <b>Question 2: What kinds of properties are associated with movies that have high voting score?</b>\n",
    "    1. What's the budget level are associated with movies that have high voting score?\n",
    "    2. What's the runtime level are associated with movies that have high voting score?\n",
    "    3. What's the directors, keywords, genres are associated with voting score?\n",
    "  "
   ]
  },
  {
   "cell_type": "markdown",
   "metadata": {},
   "source": [
    "### Function and research sample prepare"
   ]
  },
  {
   "cell_type": "markdown",
   "metadata": {},
   "source": [
    "<b>\n",
    "In the dataset, the potential properties associated with movies can be `runtime`, `budget`, `cast`, `director`, `keywords`, `genres`, `production companies`. These data are including two types: quantitative data and categorical data. Both `runtime` and `budget` data are quantitative data; the others are categorical data.\n",
    "\n",
    "- For quantitative data, since the data is quantitative, I can devide the data into various levels and find the properties in all range of movies success, I choose to use the whole dataset and then divided runtime and budget into four levels according to their quartile: 'Low', 'Medium', 'Moderately High', 'High' in all time range. And then find out what's the runtime and budget level with higher degree of movies popularity/voting score.\n",
    "\n",
    "\n",
    "- For categorical data, which are `cast`, `director`, `keywords` and `genres`, since we are not necessary to discuss all the range of of movies success(which is also difficult to dicuss), I just focus on the high popularity or high rating, so I filter the top 100 popular/ high voting score movies data *in each year*, and then count the number of occurrences in every category every year to find their properties. Forthermore, in case that the top frequent occurrences are also appeared in the worst popular/ high voting score movies, I also filter the worst 100 popular/ high voting score movies in every year and then compare the result to top 100's. If the top frequent occurrences also appear in the worst movies, I am going to include these factors as properties associated with top movies as well as worst movies. Besides, these data are contain the pipe (|) characters so first I have to spilt them.\n",
    "</b>"
   ]
  },
  {
   "cell_type": "markdown",
   "metadata": {},
   "source": [
    "### <b>A. Function Prepare-- Build a level-devide function and a split string function.<b/>\n",
    "\n",
    "**A)The cut_into_quantile function- general use.**\n",
    "\n",
    "   The function is the same I ued in the Part 1 Question. So I just past it again below."
   ]
  },
  {
   "cell_type": "code",
   "execution_count": 477,
   "metadata": {},
   "outputs": [],
   "source": [
    "# quartile function\n",
    "def cut_into_quantile(dfname ,column_name):\n",
    "# find quartile, max and min values\n",
    "    min_value = dfname[column_name].min()\n",
    "    first_quantile = dfname[column_name].describe()[4]\n",
    "    second_quantile = dfname[column_name].describe()[5]\n",
    "    third_quantile = dfname[column_name].describe()[6]\n",
    "    max_value = dfname[column_name].max()\n",
    "# Bin edges that will be used to \"cut\" the data into groups\n",
    "    bin_edges = [ min_value, first_quantile, second_quantile, third_quantile, max_value]\n",
    "# Labels for the four budget level groups\n",
    "    bin_names = [ 'Low', 'Medium', 'Moderately High', 'High'] \n",
    "# Creates budget_levels column\n",
    "    name = '{}_levels'.format(column_name)\n",
    "    dfname[name] = pd.cut(dfname[column_name], bin_edges, labels=bin_names, include_lowest = True)\n",
    "    return dfname"
   ]
  },
  {
   "cell_type": "markdown",
   "metadata": {},
   "source": [
    "**B) Split pipe (|) characters and then count their number of appeared times, then find the top three factor.**"
   ]
  },
  {
   "cell_type": "code",
   "execution_count": 478,
   "metadata": {},
   "outputs": [],
   "source": [
    "# split pipe characters and count their number of appeared times\n",
    "#argument:dataframe_col is the target dataframe&column; num is the number of the top factor\n",
    "def find_top(dataframe_col, num=3):\n",
    "    # split the characters in the input column \n",
    "    #and make it to a list\n",
    "    alist = dataframe_col.str.cat(sep='|').split('|')\n",
    "    #transfer it to a dataframe\n",
    "    new = pd.DataFrame({'top' :alist})\n",
    "    #count their number of appeared times and\n",
    "    #choose the top3\n",
    "    top = new['top'].value_counts().head(num)\n",
    "    return top"
   ]
  },
  {
   "cell_type": "markdown",
   "metadata": {},
   "source": [
    "### <b>B. Sample prepare-- Filter Top 100 and Worst 100 movies in each year as the research sample.<b/>"
   ]
  },
  {
   "cell_type": "markdown",
   "metadata": {},
   "source": [
    "<b>A) Select Top 100 popular movies in every year.</b>"
   ]
  },
  {
   "cell_type": "code",
   "execution_count": 479,
   "metadata": {
    "scrolled": true
   },
   "outputs": [
    {
     "data": {
      "text/html": [
       "<div>\n",
       "<style>\n",
       "    .dataframe thead tr:only-child th {\n",
       "        text-align: right;\n",
       "    }\n",
       "\n",
       "    .dataframe thead th {\n",
       "        text-align: left;\n",
       "    }\n",
       "\n",
       "    .dataframe tbody tr th {\n",
       "        vertical-align: top;\n",
       "    }\n",
       "</style>\n",
       "<table border=\"1\" class=\"dataframe\">\n",
       "  <thead>\n",
       "    <tr style=\"text-align: right;\">\n",
       "      <th></th>\n",
       "      <th>id</th>\n",
       "      <th>popularity</th>\n",
       "      <th>budget</th>\n",
       "      <th>revenue</th>\n",
       "      <th>original_title</th>\n",
       "      <th>cast</th>\n",
       "      <th>director</th>\n",
       "      <th>keywords</th>\n",
       "      <th>runtime</th>\n",
       "      <th>genres</th>\n",
       "      <th>production_companies</th>\n",
       "      <th>release_date</th>\n",
       "      <th>vote_count</th>\n",
       "      <th>vote_average</th>\n",
       "      <th>release_year</th>\n",
       "    </tr>\n",
       "  </thead>\n",
       "  <tbody>\n",
       "    <tr>\n",
       "      <th>0</th>\n",
       "      <td>539</td>\n",
       "      <td>2.610362</td>\n",
       "      <td>806948.0</td>\n",
       "      <td>32000000.0</td>\n",
       "      <td>Psycho</td>\n",
       "      <td>Anthony Perkins|Vera Miles|John Gavin|Janet Le...</td>\n",
       "      <td>Alfred Hitchcock</td>\n",
       "      <td>hotel|clerk|arizona|shower|rain</td>\n",
       "      <td>109</td>\n",
       "      <td>Drama|Horror|Thriller</td>\n",
       "      <td>Shamley Productions</td>\n",
       "      <td>8/14/60</td>\n",
       "      <td>1180</td>\n",
       "      <td>8.0</td>\n",
       "      <td>1960</td>\n",
       "    </tr>\n",
       "    <tr>\n",
       "      <th>1</th>\n",
       "      <td>966</td>\n",
       "      <td>1.872132</td>\n",
       "      <td>2000000.0</td>\n",
       "      <td>4905000.0</td>\n",
       "      <td>The Magnificent Seven</td>\n",
       "      <td>Yul Brynner|Eli Wallach|Steve McQueen|Charles ...</td>\n",
       "      <td>John Sturges</td>\n",
       "      <td>horse|village|friendship|remake|number in title</td>\n",
       "      <td>128</td>\n",
       "      <td>Action|Adventure|Western</td>\n",
       "      <td>The Mirisch Corporation|Alpha Productions</td>\n",
       "      <td>10/23/60</td>\n",
       "      <td>224</td>\n",
       "      <td>7.0</td>\n",
       "      <td>1960</td>\n",
       "    </tr>\n",
       "  </tbody>\n",
       "</table>\n",
       "</div>"
      ],
      "text/plain": [
       "    id  popularity     budget     revenue         original_title  \\\n",
       "0  539    2.610362   806948.0  32000000.0                 Psycho   \n",
       "1  966    1.872132  2000000.0   4905000.0  The Magnificent Seven   \n",
       "\n",
       "                                                cast          director  \\\n",
       "0  Anthony Perkins|Vera Miles|John Gavin|Janet Le...  Alfred Hitchcock   \n",
       "1  Yul Brynner|Eli Wallach|Steve McQueen|Charles ...      John Sturges   \n",
       "\n",
       "                                          keywords  runtime  \\\n",
       "0                  hotel|clerk|arizona|shower|rain      109   \n",
       "1  horse|village|friendship|remake|number in title      128   \n",
       "\n",
       "                     genres                       production_companies  \\\n",
       "0     Drama|Horror|Thriller                        Shamley Productions   \n",
       "1  Action|Adventure|Western  The Mirisch Corporation|Alpha Productions   \n",
       "\n",
       "  release_date  vote_count  vote_average  release_year  \n",
       "0      8/14/60        1180           8.0          1960  \n",
       "1     10/23/60         224           7.0          1960  "
      ]
     },
     "execution_count": 479,
     "metadata": {},
     "output_type": "execute_result"
    }
   ],
   "source": [
    "# Select Top 100 popular movies.\n",
    "# fisrt sort it by release year ascending and popularity descending\n",
    "df_top_p = df.sort_values(['release_year','popularity'], ascending=[True, False])\n",
    "#group by year and choose the top 100 high\n",
    "df_top_p = df_top_p.groupby('release_year').head(100).reset_index(drop=True)\n",
    "#check, it must start from 1960, and with high popularity to low\n",
    "df_top_p.head(2)"
   ]
  },
  {
   "cell_type": "markdown",
   "metadata": {},
   "source": [
    "<b>B) Select Top 100 high revenue movies in every year.</b>"
   ]
  },
  {
   "cell_type": "code",
   "execution_count": 480,
   "metadata": {},
   "outputs": [
    {
     "data": {
      "text/html": [
       "<div>\n",
       "<style>\n",
       "    .dataframe thead tr:only-child th {\n",
       "        text-align: right;\n",
       "    }\n",
       "\n",
       "    .dataframe thead th {\n",
       "        text-align: left;\n",
       "    }\n",
       "\n",
       "    .dataframe tbody tr th {\n",
       "        vertical-align: top;\n",
       "    }\n",
       "</style>\n",
       "<table border=\"1\" class=\"dataframe\">\n",
       "  <thead>\n",
       "    <tr style=\"text-align: right;\">\n",
       "      <th></th>\n",
       "      <th>id</th>\n",
       "      <th>popularity</th>\n",
       "      <th>budget</th>\n",
       "      <th>revenue</th>\n",
       "      <th>original_title</th>\n",
       "      <th>cast</th>\n",
       "      <th>director</th>\n",
       "      <th>keywords</th>\n",
       "      <th>runtime</th>\n",
       "      <th>genres</th>\n",
       "      <th>production_companies</th>\n",
       "      <th>release_date</th>\n",
       "      <th>vote_count</th>\n",
       "      <th>vote_average</th>\n",
       "      <th>release_year</th>\n",
       "    </tr>\n",
       "  </thead>\n",
       "  <tbody>\n",
       "    <tr>\n",
       "      <th>0</th>\n",
       "      <td>967</td>\n",
       "      <td>1.136943</td>\n",
       "      <td>12000000.0</td>\n",
       "      <td>60000000.0</td>\n",
       "      <td>Spartacus</td>\n",
       "      <td>Kirk Douglas|Laurence Olivier|Jean Simmons|Cha...</td>\n",
       "      <td>Stanley Kubrick</td>\n",
       "      <td>gladiator|roman empire|gladiator fight|slavery...</td>\n",
       "      <td>197</td>\n",
       "      <td>Action|Drama|History</td>\n",
       "      <td>Bryna Productions</td>\n",
       "      <td>10/6/60</td>\n",
       "      <td>211</td>\n",
       "      <td>6.9</td>\n",
       "      <td>1960</td>\n",
       "    </tr>\n",
       "    <tr>\n",
       "      <th>1</th>\n",
       "      <td>539</td>\n",
       "      <td>2.610362</td>\n",
       "      <td>806948.0</td>\n",
       "      <td>32000000.0</td>\n",
       "      <td>Psycho</td>\n",
       "      <td>Anthony Perkins|Vera Miles|John Gavin|Janet Le...</td>\n",
       "      <td>Alfred Hitchcock</td>\n",
       "      <td>hotel|clerk|arizona|shower|rain</td>\n",
       "      <td>109</td>\n",
       "      <td>Drama|Horror|Thriller</td>\n",
       "      <td>Shamley Productions</td>\n",
       "      <td>8/14/60</td>\n",
       "      <td>1180</td>\n",
       "      <td>8.0</td>\n",
       "      <td>1960</td>\n",
       "    </tr>\n",
       "  </tbody>\n",
       "</table>\n",
       "</div>"
      ],
      "text/plain": [
       "    id  popularity      budget     revenue original_title  \\\n",
       "0  967    1.136943  12000000.0  60000000.0      Spartacus   \n",
       "1  539    2.610362    806948.0  32000000.0         Psycho   \n",
       "\n",
       "                                                cast          director  \\\n",
       "0  Kirk Douglas|Laurence Olivier|Jean Simmons|Cha...   Stanley Kubrick   \n",
       "1  Anthony Perkins|Vera Miles|John Gavin|Janet Le...  Alfred Hitchcock   \n",
       "\n",
       "                                            keywords  runtime  \\\n",
       "0  gladiator|roman empire|gladiator fight|slavery...      197   \n",
       "1                    hotel|clerk|arizona|shower|rain      109   \n",
       "\n",
       "                  genres production_companies release_date  vote_count  \\\n",
       "0   Action|Drama|History    Bryna Productions      10/6/60         211   \n",
       "1  Drama|Horror|Thriller  Shamley Productions      8/14/60        1180   \n",
       "\n",
       "   vote_average  release_year  \n",
       "0           6.9          1960  \n",
       "1           8.0          1960  "
      ]
     },
     "execution_count": 480,
     "metadata": {},
     "output_type": "execute_result"
    }
   ],
   "source": [
    "# Select Top 100 high revenue movies.\n",
    "# fisrt sort it by release year ascending and revenue descending\n",
    "df_top_r = df.sort_values(['release_year','revenue'], ascending=[True, False])\n",
    "#group by year and choose the top 100 high\n",
    "df_top_r = df_top_r.groupby('release_year').head(100).reset_index(drop=True)\n",
    "#check, it must start from 1960, and with high revenue to low\n",
    "df_top_r.head(2)"
   ]
  },
  {
   "cell_type": "markdown",
   "metadata": {},
   "source": [
    "<b>C) Select Top 100 high score rating  movies in every year.</b>"
   ]
  },
  {
   "cell_type": "code",
   "execution_count": 481,
   "metadata": {},
   "outputs": [
    {
     "data": {
      "text/html": [
       "<div>\n",
       "<style>\n",
       "    .dataframe thead tr:only-child th {\n",
       "        text-align: right;\n",
       "    }\n",
       "\n",
       "    .dataframe thead th {\n",
       "        text-align: left;\n",
       "    }\n",
       "\n",
       "    .dataframe tbody tr th {\n",
       "        vertical-align: top;\n",
       "    }\n",
       "</style>\n",
       "<table border=\"1\" class=\"dataframe\">\n",
       "  <thead>\n",
       "    <tr style=\"text-align: right;\">\n",
       "      <th></th>\n",
       "      <th>id</th>\n",
       "      <th>popularity</th>\n",
       "      <th>budget</th>\n",
       "      <th>revenue</th>\n",
       "      <th>original_title</th>\n",
       "      <th>cast</th>\n",
       "      <th>director</th>\n",
       "      <th>keywords</th>\n",
       "      <th>runtime</th>\n",
       "      <th>genres</th>\n",
       "      <th>production_companies</th>\n",
       "      <th>release_date</th>\n",
       "      <th>vote_count</th>\n",
       "      <th>vote_average</th>\n",
       "      <th>release_year</th>\n",
       "    </tr>\n",
       "  </thead>\n",
       "  <tbody>\n",
       "    <tr>\n",
       "      <th>0</th>\n",
       "      <td>539</td>\n",
       "      <td>2.610362</td>\n",
       "      <td>806948.0</td>\n",
       "      <td>32000000.0</td>\n",
       "      <td>Psycho</td>\n",
       "      <td>Anthony Perkins|Vera Miles|John Gavin|Janet Le...</td>\n",
       "      <td>Alfred Hitchcock</td>\n",
       "      <td>hotel|clerk|arizona|shower|rain</td>\n",
       "      <td>109</td>\n",
       "      <td>Drama|Horror|Thriller</td>\n",
       "      <td>Shamley Productions</td>\n",
       "      <td>8/14/60</td>\n",
       "      <td>1180</td>\n",
       "      <td>8.0</td>\n",
       "      <td>1960</td>\n",
       "    </tr>\n",
       "    <tr>\n",
       "      <th>1</th>\n",
       "      <td>284</td>\n",
       "      <td>0.947307</td>\n",
       "      <td>3000000.0</td>\n",
       "      <td>25000000.0</td>\n",
       "      <td>The Apartment</td>\n",
       "      <td>Jack Lemmon|Shirley MacLaine|Fred MacMurray|Ra...</td>\n",
       "      <td>Billy Wilder</td>\n",
       "      <td>new york|new year's eve|lovesickness|age diffe...</td>\n",
       "      <td>125</td>\n",
       "      <td>Comedy|Drama|Romance</td>\n",
       "      <td>United Artists|The Mirisch Company</td>\n",
       "      <td>6/15/60</td>\n",
       "      <td>235</td>\n",
       "      <td>7.9</td>\n",
       "      <td>1960</td>\n",
       "    </tr>\n",
       "  </tbody>\n",
       "</table>\n",
       "</div>"
      ],
      "text/plain": [
       "    id  popularity     budget     revenue original_title  \\\n",
       "0  539    2.610362   806948.0  32000000.0         Psycho   \n",
       "1  284    0.947307  3000000.0  25000000.0  The Apartment   \n",
       "\n",
       "                                                cast          director  \\\n",
       "0  Anthony Perkins|Vera Miles|John Gavin|Janet Le...  Alfred Hitchcock   \n",
       "1  Jack Lemmon|Shirley MacLaine|Fred MacMurray|Ra...      Billy Wilder   \n",
       "\n",
       "                                            keywords  runtime  \\\n",
       "0                    hotel|clerk|arizona|shower|rain      109   \n",
       "1  new york|new year's eve|lovesickness|age diffe...      125   \n",
       "\n",
       "                  genres                production_companies release_date  \\\n",
       "0  Drama|Horror|Thriller                 Shamley Productions      8/14/60   \n",
       "1   Comedy|Drama|Romance  United Artists|The Mirisch Company      6/15/60   \n",
       "\n",
       "   vote_count  vote_average  release_year  \n",
       "0        1180           8.0          1960  \n",
       "1         235           7.9          1960  "
      ]
     },
     "execution_count": 481,
     "metadata": {},
     "output_type": "execute_result"
    }
   ],
   "source": [
    "# Select Top 100 high scorer ating movies.\n",
    "# fisrt sort it by release year ascending and high scorer ating descending\n",
    "df_top_s = df.sort_values(['release_year','vote_average'], ascending=[True, False])\n",
    "#group by year and choose the top 100 high\n",
    "df_top_s = df_top_s.groupby('release_year').head(100).reset_index(drop=True)\n",
    "#check, it must start from 1960, and with high scorer ating to low\n",
    "df_top_s.head(2)"
   ]
  },
  {
   "cell_type": "markdown",
   "metadata": {},
   "source": [
    "<b>D) To compare to results, I also create three subdataset for the last 100 movies.</b>"
   ]
  },
  {
   "cell_type": "code",
   "execution_count": 482,
   "metadata": {},
   "outputs": [],
   "source": [
    "# the last 100 popular movies in every year\n",
    "df_low_p = df.sort_values(['release_year','popularity'], ascending=[True, True])\n",
    "df_low_p = df_low_p.groupby('release_year').head(100).reset_index(drop=True)\n",
    "# the last 100 high revenue movies in every year\n",
    "df_low_r = df.sort_values(['release_year','revenue'], ascending=[True, True])\n",
    "df_low_r = df_low_r.groupby('release_year').head(100).reset_index(drop=True)\n",
    "# the last 100 score rating movies in every year\n",
    "df_low_s = df.sort_values(['release_year','vote_average'], ascending=[True, True])\n",
    "df_low_s = df_low_s.groupby('release_year').head(100).reset_index(drop=True)"
   ]
  },
  {
   "cell_type": "markdown",
   "metadata": {},
   "source": [
    "<a id='r2q1'></a>\n",
    "## Question 1: What kinds of properties are associated with movies that have high popularity?\n",
    "\n",
    "<b>\n",
    "1. What's the budget level movie are associated with movies that have high popularity?\n",
    "2. What's the runtime level are associated with movies that have high popularity on average?\n",
    "3. What's casts, directors, keywords, genres and production companies are associated with high popularity?\n",
    "</b>"
   ]
  },
  {
   "cell_type": "markdown",
   "metadata": {},
   "source": [
    "## 1.1 What's the budget level movie are associated with movies that have high popularity?"
   ]
  },
  {
   "cell_type": "markdown",
   "metadata": {},
   "source": [
    "First, divided budget data into four levels with it's quartile: 'Low', 'Medium', 'Moderately High', 'High' and create a level column."
   ]
  },
  {
   "cell_type": "code",
   "execution_count": 483,
   "metadata": {
    "scrolled": false
   },
   "outputs": [
    {
     "data": {
      "text/html": [
       "<div>\n",
       "<style>\n",
       "    .dataframe thead tr:only-child th {\n",
       "        text-align: right;\n",
       "    }\n",
       "\n",
       "    .dataframe thead th {\n",
       "        text-align: left;\n",
       "    }\n",
       "\n",
       "    .dataframe tbody tr th {\n",
       "        vertical-align: top;\n",
       "    }\n",
       "</style>\n",
       "<table border=\"1\" class=\"dataframe\">\n",
       "  <thead>\n",
       "    <tr style=\"text-align: right;\">\n",
       "      <th></th>\n",
       "      <th>id</th>\n",
       "      <th>popularity</th>\n",
       "      <th>budget</th>\n",
       "      <th>revenue</th>\n",
       "      <th>original_title</th>\n",
       "      <th>cast</th>\n",
       "      <th>director</th>\n",
       "      <th>keywords</th>\n",
       "      <th>runtime</th>\n",
       "      <th>genres</th>\n",
       "      <th>production_companies</th>\n",
       "      <th>release_date</th>\n",
       "      <th>vote_count</th>\n",
       "      <th>vote_average</th>\n",
       "      <th>release_year</th>\n",
       "      <th>budget_levels</th>\n",
       "    </tr>\n",
       "  </thead>\n",
       "  <tbody>\n",
       "    <tr>\n",
       "      <th>0</th>\n",
       "      <td>135397</td>\n",
       "      <td>32.985763</td>\n",
       "      <td>150000000.0</td>\n",
       "      <td>1.513529e+09</td>\n",
       "      <td>Jurassic World</td>\n",
       "      <td>Chris Pratt|Bryce Dallas Howard|Irrfan Khan|Vi...</td>\n",
       "      <td>Colin Trevorrow</td>\n",
       "      <td>monster|dna|tyrannosaurus rex|velociraptor|island</td>\n",
       "      <td>124</td>\n",
       "      <td>Action|Adventure|Science Fiction|Thriller</td>\n",
       "      <td>Universal Studios|Amblin Entertainment|Legenda...</td>\n",
       "      <td>6/9/15</td>\n",
       "      <td>5562</td>\n",
       "      <td>6.5</td>\n",
       "      <td>2015</td>\n",
       "      <td>High</td>\n",
       "    </tr>\n",
       "  </tbody>\n",
       "</table>\n",
       "</div>"
      ],
      "text/plain": [
       "       id  popularity       budget       revenue  original_title  \\\n",
       "0  135397   32.985763  150000000.0  1.513529e+09  Jurassic World   \n",
       "\n",
       "                                                cast         director  \\\n",
       "0  Chris Pratt|Bryce Dallas Howard|Irrfan Khan|Vi...  Colin Trevorrow   \n",
       "\n",
       "                                            keywords  runtime  \\\n",
       "0  monster|dna|tyrannosaurus rex|velociraptor|island      124   \n",
       "\n",
       "                                      genres  \\\n",
       "0  Action|Adventure|Science Fiction|Thriller   \n",
       "\n",
       "                                production_companies release_date  vote_count  \\\n",
       "0  Universal Studios|Amblin Entertainment|Legenda...       6/9/15        5562   \n",
       "\n",
       "   vote_average  release_year budget_levels  \n",
       "0           6.5          2015          High  "
      ]
     },
     "execution_count": 483,
     "metadata": {},
     "output_type": "execute_result"
    }
   ],
   "source": [
    "# use cut_into_quantile function to build a level column\n",
    "df = cut_into_quantile(df,'budget')\n",
    "df.head(1)"
   ]
  },
  {
   "cell_type": "markdown",
   "metadata": {},
   "source": [
    "From the table above, I built a `budget_levels` columns."
   ]
  },
  {
   "cell_type": "code",
   "execution_count": 484,
   "metadata": {},
   "outputs": [
    {
     "data": {
      "text/plain": [
       "budget_levels\n",
       "Low                0.510678\n",
       "Medium             0.726490\n",
       "Moderately High    0.988660\n",
       "High               1.821742\n",
       "Name: popularity, dtype: float64"
      ]
     },
     "execution_count": 484,
     "metadata": {},
     "output_type": "execute_result"
    }
   ],
   "source": [
    "# Find the mean and median popularity of each level with groupby\n",
    "result_mean = df.groupby('budget_levels')['popularity'].mean()\n",
    "result_mean "
   ]
  },
  {
   "cell_type": "code",
   "execution_count": 485,
   "metadata": {
    "scrolled": true
   },
   "outputs": [
    {
     "data": {
      "text/plain": [
       "budget_levels\n",
       "Low                0.367621\n",
       "Medium             0.507987\n",
       "Moderately High    0.733975\n",
       "High               1.232098\n",
       "Name: popularity, dtype: float64"
      ]
     },
     "execution_count": 485,
     "metadata": {},
     "output_type": "execute_result"
    }
   ],
   "source": [
    "result_median = df.groupby('budget_levels')['popularity'].median()\n",
    "result_median"
   ]
  },
  {
   "cell_type": "markdown",
   "metadata": {},
   "source": [
    "Let's visualize it."
   ]
  },
  {
   "cell_type": "code",
   "execution_count": 486,
   "metadata": {},
   "outputs": [
    {
     "data": {
      "text/plain": [
       "array([0, 1, 2, 3])"
      ]
     },
     "execution_count": 486,
     "metadata": {},
     "output_type": "execute_result"
    }
   ],
   "source": [
    "# the x locations for the groups\n",
    "ind = np.arange(len(result_mean))  \n",
    "# the width of the bars\n",
    "width = 0.5       \n",
    "ind"
   ]
  },
  {
   "cell_type": "code",
   "execution_count": 487,
   "metadata": {},
   "outputs": [
    {
     "data": {
      "text/plain": [
       "<matplotlib.legend.Legend at 0x7ff95a408b38>"
      ]
     },
     "execution_count": 487,
     "metadata": {},
     "output_type": "execute_result"
    },
    {
     "data": {
      "image/png": "[encoded data removed]",
      "text/plain": [
       "<matplotlib.figure.Figure at 0x7ff95e348dd8>"
      ]
     },
     "metadata": {},
     "output_type": "display_data"
    }
   ],
   "source": [
    "# plot bars\n",
    "#set style\n",
    "sns.set_style('darkgrid')\n",
    "bars = plt.bar(ind, result_mean, width, color='g', alpha=.7, label='mean')\n",
    "\n",
    "# title and labels\n",
    "plt.ylabel('popularity')\n",
    "plt.xlabel('budget levels')\n",
    "plt.title('Popularity with Budget Levels')\n",
    "locations = ind  # xtick locations，345...\n",
    "labels = result_median.index  \n",
    "plt.xticks(locations, labels)\n",
    "# legend\n",
    "plt.legend() "
   ]
  },
  {
   "cell_type": "markdown",
   "metadata": {},
   "source": [
    "**From the figure above, we can see that movies with higher popularity are with higher budget level.** The result is reasonable since movies with higher popularity may has a higher promoting advertising cost. And with the high promotion level people always have more probability to get know these movies. "
   ]
  },
  {
   "cell_type": "markdown",
   "metadata": {},
   "source": [
    "## 1.2 What's the runtime level are associated with movies that have high popularity on average?"
   ]
  },
  {
   "cell_type": "markdown",
   "metadata": {},
   "source": [
    "Divided runtime data into four levels with it's quartile: 'Short', 'Medium', 'Moderately Long', 'Long'."
   ]
  },
  {
   "cell_type": "code",
   "execution_count": 488,
   "metadata": {
    "scrolled": true
   },
   "outputs": [
    {
     "data": {
      "text/html": [
       "<div>\n",
       "<style>\n",
       "    .dataframe thead tr:only-child th {\n",
       "        text-align: right;\n",
       "    }\n",
       "\n",
       "    .dataframe thead th {\n",
       "        text-align: left;\n",
       "    }\n",
       "\n",
       "    .dataframe tbody tr th {\n",
       "        vertical-align: top;\n",
       "    }\n",
       "</style>\n",
       "<table border=\"1\" class=\"dataframe\">\n",
       "  <thead>\n",
       "    <tr style=\"text-align: right;\">\n",
       "      <th></th>\n",
       "      <th>id</th>\n",
       "      <th>popularity</th>\n",
       "      <th>budget</th>\n",
       "      <th>revenue</th>\n",
       "      <th>original_title</th>\n",
       "      <th>cast</th>\n",
       "      <th>director</th>\n",
       "      <th>keywords</th>\n",
       "      <th>runtime</th>\n",
       "      <th>genres</th>\n",
       "      <th>production_companies</th>\n",
       "      <th>release_date</th>\n",
       "      <th>vote_count</th>\n",
       "      <th>vote_average</th>\n",
       "      <th>release_year</th>\n",
       "      <th>budget_levels</th>\n",
       "      <th>runtime_levels</th>\n",
       "    </tr>\n",
       "  </thead>\n",
       "  <tbody>\n",
       "    <tr>\n",
       "      <th>0</th>\n",
       "      <td>135397</td>\n",
       "      <td>32.985763</td>\n",
       "      <td>150000000.0</td>\n",
       "      <td>1.513529e+09</td>\n",
       "      <td>Jurassic World</td>\n",
       "      <td>Chris Pratt|Bryce Dallas Howard|Irrfan Khan|Vi...</td>\n",
       "      <td>Colin Trevorrow</td>\n",
       "      <td>monster|dna|tyrannosaurus rex|velociraptor|island</td>\n",
       "      <td>124</td>\n",
       "      <td>Action|Adventure|Science Fiction|Thriller</td>\n",
       "      <td>Universal Studios|Amblin Entertainment|Legenda...</td>\n",
       "      <td>6/9/15</td>\n",
       "      <td>5562</td>\n",
       "      <td>6.5</td>\n",
       "      <td>2015</td>\n",
       "      <td>High</td>\n",
       "      <td>High</td>\n",
       "    </tr>\n",
       "  </tbody>\n",
       "</table>\n",
       "</div>"
      ],
      "text/plain": [
       "       id  popularity       budget       revenue  original_title  \\\n",
       "0  135397   32.985763  150000000.0  1.513529e+09  Jurassic World   \n",
       "\n",
       "                                                cast         director  \\\n",
       "0  Chris Pratt|Bryce Dallas Howard|Irrfan Khan|Vi...  Colin Trevorrow   \n",
       "\n",
       "                                            keywords  runtime  \\\n",
       "0  monster|dna|tyrannosaurus rex|velociraptor|island      124   \n",
       "\n",
       "                                      genres  \\\n",
       "0  Action|Adventure|Science Fiction|Thriller   \n",
       "\n",
       "                                production_companies release_date  vote_count  \\\n",
       "0  Universal Studios|Amblin Entertainment|Legenda...       6/9/15        5562   \n",
       "\n",
       "   vote_average  release_year budget_levels runtime_levels  \n",
       "0           6.5          2015          High           High  "
      ]
     },
     "execution_count": 488,
     "metadata": {},
     "output_type": "execute_result"
    }
   ],
   "source": [
    "df = cut_into_quantile(df,'runtime')\n",
    "df.head(1)"
   ]
  },
  {
   "cell_type": "code",
   "execution_count": 489,
   "metadata": {
    "scrolled": true
   },
   "outputs": [
    {
     "data": {
      "text/plain": [
       "runtime_levels\n",
       "Low                0.418723\n",
       "Medium             0.551560\n",
       "Moderately High    0.656342\n",
       "High               1.019749\n",
       "Name: popularity, dtype: float64"
      ]
     },
     "execution_count": 489,
     "metadata": {},
     "output_type": "execute_result"
    }
   ],
   "source": [
    "# Find the mean popularity of each level with groupby\n",
    "result_mean = df.groupby('runtime_levels')['popularity'].mean()\n",
    "result_mean"
   ]
  },
  {
   "cell_type": "code",
   "execution_count": 490,
   "metadata": {},
   "outputs": [
    {
     "data": {
      "text/plain": [
       "runtime_levels\n",
       "Low                0.290399\n",
       "Medium             0.366125\n",
       "Moderately High    0.420568\n",
       "High               0.529933\n",
       "Name: popularity, dtype: float64"
      ]
     },
     "execution_count": 490,
     "metadata": {},
     "output_type": "execute_result"
    }
   ],
   "source": [
    "# Find the median popularity of each level with groupby\n",
    "result_median = df.groupby('runtime_levels')['popularity'].median()\n",
    "result_median"
   ]
  },
  {
   "cell_type": "markdown",
   "metadata": {},
   "source": [
    "Let's visualize it."
   ]
  },
  {
   "cell_type": "code",
   "execution_count": 491,
   "metadata": {},
   "outputs": [],
   "source": [
    "ind = np.arange(len(result_median))  # the x locations for the groups\n",
    "width = 0.5       # the width of the bars"
   ]
  },
  {
   "cell_type": "code",
   "execution_count": 492,
   "metadata": {},
   "outputs": [
    {
     "data": {
      "text/plain": [
       "<matplotlib.legend.Legend at 0x7ff958d7a3c8>"
      ]
     },
     "execution_count": 492,
     "metadata": {},
     "output_type": "execute_result"
    },
    {
     "data": {
      "image/png": "[encoded data removed]",
      "text/plain": [
       "<matplotlib.figure.Figure at 0x7ff9596ec128>"
      ]
     },
     "metadata": {},
     "output_type": "display_data"
    }
   ],
   "source": [
    "# plot bars\n",
    "bars = plt.bar(ind, result_median, width, color='#1ea2bc', alpha=.7, label='median')\n",
    "\n",
    "# title and labels\n",
    "plt.ylabel('popularity')\n",
    "plt.xlabel('runtime levels')\n",
    "plt.title('Popularity with Runtime Levels')\n",
    "locations = ind  # xtick locations，345...\n",
    "labels = result_median.index  \n",
    "plt.xticks(locations, labels)\n",
    "# legend\n",
    "plt.legend() "
   ]
  },
  {
   "cell_type": "markdown",
   "metadata": {},
   "source": [
    "**We can see that the higher popularity movies has longer run time.**"
   ]
  },
  {
   "cell_type": "markdown",
   "metadata": {},
   "source": [
    "## 1.3 What's casts, directors, keywords, genres and production companies are associated with high popularity?"
   ]
  },
  {
   "cell_type": "markdown",
   "metadata": {},
   "source": [
    "**First, choose the dataset-df_top_p. It is the dataframe about top 100 popular movies in each year.**"
   ]
  },
  {
   "cell_type": "code",
   "execution_count": 493,
   "metadata": {
    "scrolled": false
   },
   "outputs": [
    {
     "data": {
      "text/html": [
       "<div>\n",
       "<style>\n",
       "    .dataframe thead tr:only-child th {\n",
       "        text-align: right;\n",
       "    }\n",
       "\n",
       "    .dataframe thead th {\n",
       "        text-align: left;\n",
       "    }\n",
       "\n",
       "    .dataframe tbody tr th {\n",
       "        vertical-align: top;\n",
       "    }\n",
       "</style>\n",
       "<table border=\"1\" class=\"dataframe\">\n",
       "  <thead>\n",
       "    <tr style=\"text-align: right;\">\n",
       "      <th></th>\n",
       "      <th>id</th>\n",
       "      <th>popularity</th>\n",
       "      <th>budget</th>\n",
       "      <th>revenue</th>\n",
       "      <th>original_title</th>\n",
       "      <th>cast</th>\n",
       "      <th>director</th>\n",
       "      <th>keywords</th>\n",
       "      <th>runtime</th>\n",
       "      <th>genres</th>\n",
       "      <th>production_companies</th>\n",
       "      <th>release_date</th>\n",
       "      <th>vote_count</th>\n",
       "      <th>vote_average</th>\n",
       "      <th>release_year</th>\n",
       "    </tr>\n",
       "  </thead>\n",
       "  <tbody>\n",
       "    <tr>\n",
       "      <th>0</th>\n",
       "      <td>539</td>\n",
       "      <td>2.610362</td>\n",
       "      <td>806948.0</td>\n",
       "      <td>32000000.0</td>\n",
       "      <td>Psycho</td>\n",
       "      <td>Anthony Perkins|Vera Miles|John Gavin|Janet Le...</td>\n",
       "      <td>Alfred Hitchcock</td>\n",
       "      <td>hotel|clerk|arizona|shower|rain</td>\n",
       "      <td>109</td>\n",
       "      <td>Drama|Horror|Thriller</td>\n",
       "      <td>Shamley Productions</td>\n",
       "      <td>8/14/60</td>\n",
       "      <td>1180</td>\n",
       "      <td>8.0</td>\n",
       "      <td>1960</td>\n",
       "    </tr>\n",
       "    <tr>\n",
       "      <th>1</th>\n",
       "      <td>966</td>\n",
       "      <td>1.872132</td>\n",
       "      <td>2000000.0</td>\n",
       "      <td>4905000.0</td>\n",
       "      <td>The Magnificent Seven</td>\n",
       "      <td>Yul Brynner|Eli Wallach|Steve McQueen|Charles ...</td>\n",
       "      <td>John Sturges</td>\n",
       "      <td>horse|village|friendship|remake|number in title</td>\n",
       "      <td>128</td>\n",
       "      <td>Action|Adventure|Western</td>\n",
       "      <td>The Mirisch Corporation|Alpha Productions</td>\n",
       "      <td>10/23/60</td>\n",
       "      <td>224</td>\n",
       "      <td>7.0</td>\n",
       "      <td>1960</td>\n",
       "    </tr>\n",
       "  </tbody>\n",
       "</table>\n",
       "</div>"
      ],
      "text/plain": [
       "    id  popularity     budget     revenue         original_title  \\\n",
       "0  539    2.610362   806948.0  32000000.0                 Psycho   \n",
       "1  966    1.872132  2000000.0   4905000.0  The Magnificent Seven   \n",
       "\n",
       "                                                cast          director  \\\n",
       "0  Anthony Perkins|Vera Miles|John Gavin|Janet Le...  Alfred Hitchcock   \n",
       "1  Yul Brynner|Eli Wallach|Steve McQueen|Charles ...      John Sturges   \n",
       "\n",
       "                                          keywords  runtime  \\\n",
       "0                  hotel|clerk|arizona|shower|rain      109   \n",
       "1  horse|village|friendship|remake|number in title      128   \n",
       "\n",
       "                     genres                       production_companies  \\\n",
       "0     Drama|Horror|Thriller                        Shamley Productions   \n",
       "1  Action|Adventure|Western  The Mirisch Corporation|Alpha Productions   \n",
       "\n",
       "  release_date  vote_count  vote_average  release_year  \n",
       "0      8/14/60        1180           8.0          1960  \n",
       "1     10/23/60         224           7.0          1960  "
      ]
     },
     "execution_count": 493,
     "metadata": {},
     "output_type": "execute_result"
    }
   ],
   "source": [
    "df_top_p.head(2)"
   ]
  },
  {
   "cell_type": "markdown",
   "metadata": {},
   "source": [
    "**Then, find the three highest occurrences in each category among the top 100 popular movies. And store the result table into variables in order to create a summary table.**"
   ]
  },
  {
   "cell_type": "code",
   "execution_count": 494,
   "metadata": {},
   "outputs": [],
   "source": [
    "# find top three cast\n",
    "a = find_top(df_top_p.cast)\n",
    "# find top three director\n",
    "b = find_top(df_top_p.director)\n",
    "# find top three keywords\n",
    "c = find_top(df_top_p.keywords)\n",
    "# find top three genres\n",
    "d = find_top(df_top_p.genres)\n",
    "# find top three production companies\n",
    "e = find_top(df_top_p.production_companies)"
   ]
  },
  {
   "cell_type": "markdown",
   "metadata": {},
   "source": [
    "**Use the result above to create a summary table.**"
   ]
  },
  {
   "cell_type": "code",
   "execution_count": 495,
   "metadata": {
    "scrolled": false
   },
   "outputs": [
    {
     "data": {
      "text/html": [
       "<div>\n",
       "<style>\n",
       "    .dataframe thead tr:only-child th {\n",
       "        text-align: right;\n",
       "    }\n",
       "\n",
       "    .dataframe thead th {\n",
       "        text-align: left;\n",
       "    }\n",
       "\n",
       "    .dataframe tbody tr th {\n",
       "        vertical-align: top;\n",
       "    }\n",
       "</style>\n",
       "<table border=\"1\" class=\"dataframe\">\n",
       "  <thead>\n",
       "    <tr style=\"text-align: right;\">\n",
       "      <th></th>\n",
       "      <th>popular_cast</th>\n",
       "      <th>popular_director</th>\n",
       "      <th>popular_genres</th>\n",
       "      <th>popular_keywords</th>\n",
       "      <th>popular_producer</th>\n",
       "    </tr>\n",
       "  </thead>\n",
       "  <tbody>\n",
       "    <tr>\n",
       "      <th>0</th>\n",
       "      <td>Robert De Niro</td>\n",
       "      <td>Woody Allen</td>\n",
       "      <td>Drama</td>\n",
       "      <td>based on novel</td>\n",
       "      <td>Warner Bros.</td>\n",
       "    </tr>\n",
       "    <tr>\n",
       "      <th>1</th>\n",
       "      <td>Bruce Willis</td>\n",
       "      <td>Steven Spielberg</td>\n",
       "      <td>Comedy</td>\n",
       "      <td>sex</td>\n",
       "      <td>Universal Pictures</td>\n",
       "    </tr>\n",
       "    <tr>\n",
       "      <th>2</th>\n",
       "      <td>Michael Caine</td>\n",
       "      <td>Clint Eastwood</td>\n",
       "      <td>Thriller</td>\n",
       "      <td>dystopia</td>\n",
       "      <td>Paramount Pictures</td>\n",
       "    </tr>\n",
       "  </tbody>\n",
       "</table>\n",
       "</div>"
      ],
      "text/plain": [
       "     popular_cast  popular_director popular_genres popular_keywords  \\\n",
       "0  Robert De Niro       Woody Allen          Drama   based on novel   \n",
       "1    Bruce Willis  Steven Spielberg         Comedy              sex   \n",
       "2   Michael Caine    Clint Eastwood       Thriller         dystopia   \n",
       "\n",
       "     popular_producer  \n",
       "0        Warner Bros.  \n",
       "1  Universal Pictures  \n",
       "2  Paramount Pictures  "
      ]
     },
     "execution_count": 495,
     "metadata": {},
     "output_type": "execute_result"
    }
   ],
   "source": [
    "#Use the result above to create a summary dataframe.\n",
    "df_popular = pd.DataFrame({'popular_cast': a.index, 'popular_director': b.index, 'popular_keywords': c.index, 'popular_genres': d.index, 'popular_producer': e.index})\n",
    "df_popular"
   ]
  },
  {
   "cell_type": "markdown",
   "metadata": {},
   "source": [
    "**Finally, find the three highest occurrences in each category among the 100 unpopular movies.**"
   ]
  },
  {
   "cell_type": "code",
   "execution_count": 496,
   "metadata": {},
   "outputs": [
    {
     "data": {
      "text/html": [
       "<div>\n",
       "<style>\n",
       "    .dataframe thead tr:only-child th {\n",
       "        text-align: right;\n",
       "    }\n",
       "\n",
       "    .dataframe thead th {\n",
       "        text-align: left;\n",
       "    }\n",
       "\n",
       "    .dataframe tbody tr th {\n",
       "        vertical-align: top;\n",
       "    }\n",
       "</style>\n",
       "<table border=\"1\" class=\"dataframe\">\n",
       "  <thead>\n",
       "    <tr style=\"text-align: right;\">\n",
       "      <th></th>\n",
       "      <th>id</th>\n",
       "      <th>popularity</th>\n",
       "      <th>budget</th>\n",
       "      <th>revenue</th>\n",
       "      <th>original_title</th>\n",
       "      <th>cast</th>\n",
       "      <th>director</th>\n",
       "      <th>keywords</th>\n",
       "      <th>runtime</th>\n",
       "      <th>genres</th>\n",
       "      <th>production_companies</th>\n",
       "      <th>release_date</th>\n",
       "      <th>vote_count</th>\n",
       "      <th>vote_average</th>\n",
       "      <th>release_year</th>\n",
       "    </tr>\n",
       "  </thead>\n",
       "  <tbody>\n",
       "    <tr>\n",
       "      <th>0</th>\n",
       "      <td>18973</td>\n",
       "      <td>0.055821</td>\n",
       "      <td>3000000.0</td>\n",
       "      <td>7100000.0</td>\n",
       "      <td>Cinderfella</td>\n",
       "      <td>Jerry Lewis|Ed Wynn|Judith Anderson|Henry Silv...</td>\n",
       "      <td>Frank Tashlin</td>\n",
       "      <td>NaN</td>\n",
       "      <td>91</td>\n",
       "      <td>Comedy|Romance</td>\n",
       "      <td>Paramount Pictures|Jerry Lewis Productions</td>\n",
       "      <td>12/18/60</td>\n",
       "      <td>13</td>\n",
       "      <td>7.2</td>\n",
       "      <td>1960</td>\n",
       "    </tr>\n",
       "    <tr>\n",
       "      <th>1</th>\n",
       "      <td>39890</td>\n",
       "      <td>0.065808</td>\n",
       "      <td>NaN</td>\n",
       "      <td>NaN</td>\n",
       "      <td>The City of the Dead</td>\n",
       "      <td>Christopher Lee|Dennis Lotis|Patricia Jessel|T...</td>\n",
       "      <td>John Llewellyn Moxey</td>\n",
       "      <td>witch|burning of witches|witch burning|witchcraft</td>\n",
       "      <td>76</td>\n",
       "      <td>Horror</td>\n",
       "      <td>Vulcan Productions Inc.</td>\n",
       "      <td>9/9/60</td>\n",
       "      <td>13</td>\n",
       "      <td>6.1</td>\n",
       "      <td>1960</td>\n",
       "    </tr>\n",
       "  </tbody>\n",
       "</table>\n",
       "</div>"
      ],
      "text/plain": [
       "      id  popularity     budget    revenue        original_title  \\\n",
       "0  18973    0.055821  3000000.0  7100000.0           Cinderfella   \n",
       "1  39890    0.065808        NaN        NaN  The City of the Dead   \n",
       "\n",
       "                                                cast              director  \\\n",
       "0  Jerry Lewis|Ed Wynn|Judith Anderson|Henry Silv...         Frank Tashlin   \n",
       "1  Christopher Lee|Dennis Lotis|Patricia Jessel|T...  John Llewellyn Moxey   \n",
       "\n",
       "                                            keywords  runtime          genres  \\\n",
       "0                                                NaN       91  Comedy|Romance   \n",
       "1  witch|burning of witches|witch burning|witchcraft       76          Horror   \n",
       "\n",
       "                         production_companies release_date  vote_count  \\\n",
       "0  Paramount Pictures|Jerry Lewis Productions     12/18/60          13   \n",
       "1                     Vulcan Productions Inc.       9/9/60          13   \n",
       "\n",
       "   vote_average  release_year  \n",
       "0           7.2          1960  \n",
       "1           6.1          1960  "
      ]
     },
     "execution_count": 496,
     "metadata": {},
     "output_type": "execute_result"
    }
   ],
   "source": [
    "# call the dataset wiht the 100 unpopular movies in each year\n",
    "df_low_p.head(2)"
   ]
  },
  {
   "cell_type": "code",
   "execution_count": 497,
   "metadata": {},
   "outputs": [],
   "source": [
    "# find top three cast among the among the 100 unpopular movies\n",
    "na = find_top(df_low_p.cast)\n",
    "# find top three director among the among the 100 unpopular movies\n",
    "nb = find_top(df_low_p.director)\n",
    "# find top three keywords among the among the 100 unpopular movies\n",
    "nc = find_top(df_low_p.keywords)\n",
    "# find top three genres among the among the 100 unpopular movies\n",
    "nd = find_top(df_low_p.genres)\n",
    "# find top three production companiess among the among the 100 unpopular movies\n",
    "ne = find_top(df_low_p.production_companies)"
   ]
  },
  {
   "cell_type": "code",
   "execution_count": 498,
   "metadata": {
    "scrolled": true
   },
   "outputs": [
    {
     "data": {
      "text/html": [
       "<div>\n",
       "<style>\n",
       "    .dataframe thead tr:only-child th {\n",
       "        text-align: right;\n",
       "    }\n",
       "\n",
       "    .dataframe thead th {\n",
       "        text-align: left;\n",
       "    }\n",
       "\n",
       "    .dataframe tbody tr th {\n",
       "        vertical-align: top;\n",
       "    }\n",
       "</style>\n",
       "<table border=\"1\" class=\"dataframe\">\n",
       "  <thead>\n",
       "    <tr style=\"text-align: right;\">\n",
       "      <th></th>\n",
       "      <th>unpopular_cast</th>\n",
       "      <th>unpopular_director</th>\n",
       "      <th>unpopular_genres</th>\n",
       "      <th>unpopular_keywords</th>\n",
       "      <th>unpopular_producer</th>\n",
       "    </tr>\n",
       "  </thead>\n",
       "  <tbody>\n",
       "    <tr>\n",
       "      <th>0</th>\n",
       "      <td>Clint Eastwood</td>\n",
       "      <td>Woody Allen</td>\n",
       "      <td>Drama</td>\n",
       "      <td>independent film</td>\n",
       "      <td>Universal Pictures</td>\n",
       "    </tr>\n",
       "    <tr>\n",
       "      <th>1</th>\n",
       "      <td>Michael Caine</td>\n",
       "      <td>Clint Eastwood</td>\n",
       "      <td>Comedy</td>\n",
       "      <td>woman director</td>\n",
       "      <td>Warner Bros.</td>\n",
       "    </tr>\n",
       "    <tr>\n",
       "      <th>2</th>\n",
       "      <td>Harvey Keitel</td>\n",
       "      <td>Martin Scorsese</td>\n",
       "      <td>Thriller</td>\n",
       "      <td>sex</td>\n",
       "      <td>Paramount Pictures</td>\n",
       "    </tr>\n",
       "  </tbody>\n",
       "</table>\n",
       "</div>"
      ],
      "text/plain": [
       "   unpopular_cast unpopular_director unpopular_genres unpopular_keywords  \\\n",
       "0  Clint Eastwood        Woody Allen            Drama   independent film   \n",
       "1   Michael Caine     Clint Eastwood           Comedy     woman director   \n",
       "2   Harvey Keitel    Martin Scorsese         Thriller                sex   \n",
       "\n",
       "   unpopular_producer  \n",
       "0  Universal Pictures  \n",
       "1        Warner Bros.  \n",
       "2  Paramount Pictures  "
      ]
     },
     "execution_count": 498,
     "metadata": {},
     "output_type": "execute_result"
    }
   ],
   "source": [
    "df_unpopular = pd.DataFrame({'unpopular_cast': na.index, 'unpopular_director': nb.index, 'unpopular_keywords': nc.index, 'unpopular_genres': nd.index, 'unpopular_producer': ne.index})\n",
    "df_unpopular"
   ]
  },
  {
   "cell_type": "markdown",
   "metadata": {},
   "source": [
    "**Now, we get the two table that list the properties occurred the most among the top 100 popular movies each year, among the top 100 unpopular movies each year respectively.**\n",
    "\n",
    "**Now we can campare the two tables and find out What's casts, directors, keywords, genres and production companies are associated with high popularity.**"
   ]
  },
  {
   "cell_type": "code",
   "execution_count": 499,
   "metadata": {},
   "outputs": [
    {
     "data": {
      "text/html": [
       "<div>\n",
       "<style>\n",
       "    .dataframe thead tr:only-child th {\n",
       "        text-align: right;\n",
       "    }\n",
       "\n",
       "    .dataframe thead th {\n",
       "        text-align: left;\n",
       "    }\n",
       "\n",
       "    .dataframe tbody tr th {\n",
       "        vertical-align: top;\n",
       "    }\n",
       "</style>\n",
       "<table border=\"1\" class=\"dataframe\">\n",
       "  <thead>\n",
       "    <tr style=\"text-align: right;\">\n",
       "      <th></th>\n",
       "      <th>popular_cast</th>\n",
       "      <th>popular_director</th>\n",
       "      <th>popular_genres</th>\n",
       "      <th>popular_keywords</th>\n",
       "      <th>popular_producer</th>\n",
       "    </tr>\n",
       "  </thead>\n",
       "  <tbody>\n",
       "    <tr>\n",
       "      <th>0</th>\n",
       "      <td>Robert De Niro</td>\n",
       "      <td>Woody Allen</td>\n",
       "      <td>Drama</td>\n",
       "      <td>based on novel</td>\n",
       "      <td>Warner Bros.</td>\n",
       "    </tr>\n",
       "    <tr>\n",
       "      <th>1</th>\n",
       "      <td>Bruce Willis</td>\n",
       "      <td>Steven Spielberg</td>\n",
       "      <td>Comedy</td>\n",
       "      <td>sex</td>\n",
       "      <td>Universal Pictures</td>\n",
       "    </tr>\n",
       "    <tr>\n",
       "      <th>2</th>\n",
       "      <td>Michael Caine</td>\n",
       "      <td>Clint Eastwood</td>\n",
       "      <td>Thriller</td>\n",
       "      <td>dystopia</td>\n",
       "      <td>Paramount Pictures</td>\n",
       "    </tr>\n",
       "  </tbody>\n",
       "</table>\n",
       "</div>"
      ],
      "text/plain": [
       "     popular_cast  popular_director popular_genres popular_keywords  \\\n",
       "0  Robert De Niro       Woody Allen          Drama   based on novel   \n",
       "1    Bruce Willis  Steven Spielberg         Comedy              sex   \n",
       "2   Michael Caine    Clint Eastwood       Thriller         dystopia   \n",
       "\n",
       "     popular_producer  \n",
       "0        Warner Bros.  \n",
       "1  Universal Pictures  \n",
       "2  Paramount Pictures  "
      ]
     },
     "execution_count": 499,
     "metadata": {},
     "output_type": "execute_result"
    }
   ],
   "source": [
    "# compare\n",
    "df_popular"
   ]
  },
  {
   "cell_type": "markdown",
   "metadata": {},
   "source": [
    "From the tabbles above, we can find that cast *Michael Caine* is appeared in both popular and unpopular movies; director *Woody Allen* and *Clint Eastwood* are appeared in both popular and unpopular movies; all three genres *Drama*, *Comedy*, *Thriller* are appeared in both popular and unpopular movies; *sex* is appeared in both popular and unpopular movies; all three producer *Universal Pictures*, *Warner Bros*, *Paramount Pictures* are appeared in both popular and unpopular movies. The summary are as follows:\n",
    "\n",
    "\n",
    "- **Cast associated with high popularity movies**: `Robert De Niro` and `Bruce Willis`. It's really reasonable because I have seen a lot of promoted movies content which are performed by them in my country. On average I think they do have the huge popularity in past years!\n",
    "- **Director associated with high popularity movies**: `Steven Spielberg`. It's no doubt that he got the first place since he has won so many awards and honors for his high quality and popular work!\n",
    "- **Both of the most popular and unpopular movies are associated three mainly genres: Drama, Comedy, and Thriller.** I just can infer that these genres are common in the movie industry.\n",
    "- **Keywords associated with high popularity movies**: `based on novel` and `dystopia`. It' also no doubt it comes out the result. Especially the based on novel movies, since nowadays tons of movies are made based on novel like Harry Potter, The Hunger Games etc, and they were also famous in my country.\n",
    "- **Producer associated with high popularity movies and unpopularity movies**: `Warner Bros.`, `Universal Pictures` and `Paramount Pictures`. The three giants of movie indusry did produce such a various quality movies!\n"
   ]
  },
  {
   "cell_type": "markdown",
   "metadata": {},
   "source": [
    "<a id='r2q2'></a>\n",
    "### Question 2: What kinds of properties are associated with movies that have high voting score?\n",
    "\n",
    "<b>\n",
    "1. What's the budget level are associated with movies that have high voting score?\n",
    "2. What's the runtime level are associated with movies that have high voting score?\n",
    "3. What's the directors, keywords, genres are associated with voting score?\n",
    "</b>"
   ]
  },
  {
   "cell_type": "markdown",
   "metadata": {},
   "source": [
    "Use the same procedure with Research 2, Question 1 to answer these questions."
   ]
  },
  {
   "cell_type": "markdown",
   "metadata": {},
   "source": [
    "## 2.1 What's the budget level are associated with movies that have high voting score?"
   ]
  },
  {
   "cell_type": "markdown",
   "metadata": {},
   "source": [
    "**First, use the dataframe with `budget level` I have created in the previous question. Then find the mean and median of `vote_average` group by different budget level.**"
   ]
  },
  {
   "cell_type": "code",
   "execution_count": 500,
   "metadata": {
    "scrolled": true
   },
   "outputs": [
    {
     "data": {
      "text/plain": [
       "budget_levels\n",
       "Low                5.947569\n",
       "Medium             6.016922\n",
       "Moderately High    6.066133\n",
       "High               6.104504\n",
       "Name: vote_average, dtype: float64"
      ]
     },
     "execution_count": 500,
     "metadata": {},
     "output_type": "execute_result"
    }
   ],
   "source": [
    "# Find the mean and median voting score of each level with groupby\n",
    "result_mean = df.groupby('budget_levels')['vote_average'].mean()\n",
    "result_mean"
   ]
  },
  {
   "cell_type": "code",
   "execution_count": 501,
   "metadata": {
    "scrolled": true
   },
   "outputs": [
    {
     "data": {
      "text/plain": [
       "budget_levels\n",
       "Low                6.0\n",
       "Medium             6.1\n",
       "Moderately High    6.1\n",
       "High               6.1\n",
       "Name: vote_average, dtype: float64"
      ]
     },
     "execution_count": 501,
     "metadata": {},
     "output_type": "execute_result"
    }
   ],
   "source": [
    "result_median = df.groupby('budget_levels')['vote_average'].median()\n",
    "result_median"
   ]
  },
  {
   "cell_type": "markdown",
   "metadata": {},
   "source": [
    "**Let's use the mean table above to visualize it.**"
   ]
  },
  {
   "cell_type": "code",
   "execution_count": 502,
   "metadata": {},
   "outputs": [
    {
     "data": {
      "text/plain": [
       "<matplotlib.legend.Legend at 0x7ff958bd4668>"
      ]
     },
     "execution_count": 502,
     "metadata": {},
     "output_type": "execute_result"
    },
    {
     "data": {
      "image/png": "[encoded data removed]",
      "text/plain": [
       "<matplotlib.figure.Figure at 0x7ff959853048>"
      ]
     },
     "metadata": {},
     "output_type": "display_data"
    }
   ],
   "source": [
    "# plot bars\n",
    "#set style\n",
    "sns.set_style('darkgrid')\n",
    "ind = np.arange(len(result_mean))  # the x locations for the groups\n",
    "width = 0.5       # the width of the bars\n",
    "\n",
    "# plot bars\n",
    "plt.subplots(figsize=(8, 6))\n",
    "bars = plt.bar(ind, result_median, width, color='y', alpha=.7, label='mean')\n",
    "\n",
    "# title and labels\n",
    "plt.ylabel('rating')\n",
    "plt.xlabel('budget levels')\n",
    "plt.title('Rating with Budget Levels')\n",
    "locations = ind  # xtick locations，345...\n",
    "labels = result_median.index  \n",
    "plt.xticks(locations, labels)\n",
    "# legend\n",
    "plt.legend( loc='upper left') "
   ]
  },
  {
   "cell_type": "markdown",
   "metadata": {},
   "source": [
    "We can see that there is no big difference in average voting score at different budget levels. **So from the result, maybe high budget of a movie is not necessary to a good quality of movie!**"
   ]
  },
  {
   "cell_type": "markdown",
   "metadata": {},
   "source": [
    "## 2.2 What's the runtime level are associated with movies that have high voting score?"
   ]
  },
  {
   "cell_type": "markdown",
   "metadata": {},
   "source": [
    "**First, use the dataframe with `runtime level` I have created in the previous question. Then find the mean and median of `vote_average` group by different runtime level.**"
   ]
  },
  {
   "cell_type": "code",
   "execution_count": 503,
   "metadata": {},
   "outputs": [
    {
     "data": {
      "text/plain": [
       "runtime_levels\n",
       "Low                5.726425\n",
       "Medium             5.724355\n",
       "Moderately High    6.044946\n",
       "High               6.401297\n",
       "Name: vote_average, dtype: float64"
      ]
     },
     "execution_count": 503,
     "metadata": {},
     "output_type": "execute_result"
    }
   ],
   "source": [
    "# Find the mean popularity of each level with groupby\n",
    "result_mean = df.groupby('runtime_levels')['vote_average'].mean()\n",
    "result_mean"
   ]
  },
  {
   "cell_type": "code",
   "execution_count": 504,
   "metadata": {
    "scrolled": true
   },
   "outputs": [
    {
     "data": {
      "text/plain": [
       "runtime_levels\n",
       "Low                5.8\n",
       "Medium             5.8\n",
       "Moderately High    6.1\n",
       "High               6.4\n",
       "Name: vote_average, dtype: float64"
      ]
     },
     "execution_count": 504,
     "metadata": {},
     "output_type": "execute_result"
    }
   ],
   "source": [
    "result_median = df.groupby('runtime_levels')['vote_average'].median()\n",
    "result_median"
   ]
  },
  {
   "cell_type": "markdown",
   "metadata": {},
   "source": [
    "**Let's visualize it.**"
   ]
  },
  {
   "cell_type": "code",
   "execution_count": 505,
   "metadata": {},
   "outputs": [
    {
     "data": {
      "text/plain": [
       "<matplotlib.legend.Legend at 0x7ff95a8cda90>"
      ]
     },
     "execution_count": 505,
     "metadata": {},
     "output_type": "execute_result"
    },
    {
     "data": {
      "image/png": "[encoded data removed]",
      "text/plain": [
       "<matplotlib.figure.Figure at 0x7ff958bdaa90>"
      ]
     },
     "metadata": {},
     "output_type": "display_data"
    }
   ],
   "source": [
    "sns.set_style('darkgrid')\n",
    "ind = np.arange(len(result_mean))  # the x locations for the groups\n",
    "width = 0.5       # the width of the bars\n",
    "\n",
    "# plot bars\n",
    "bars = plt.bar(ind, result_median, width, color='g', alpha=.7, label='mean')\n",
    "\n",
    "# title and labels\n",
    "plt.ylabel('rating')\n",
    "plt.xlabel('runtime levels')\n",
    "plt.title('Rating with Runtime Levels')\n",
    "locations = ind  # xtick locations，345...\n",
    "labels = result_median.index  \n",
    "plt.xticks(locations, labels)\n",
    "# legend\n",
    "plt.legend() "
   ]
  },
  {
   "cell_type": "markdown",
   "metadata": {},
   "source": [
    "**We can see that there is no big difference in average voting score in different runtime levels. So from the result, maybe long runtime of a movie is not necessary to a good quality of movie!**"
   ]
  },
  {
   "cell_type": "markdown",
   "metadata": {},
   "source": [
    "## 2.3 What's the directors, keywords, genres are associated with voting score?"
   ]
  },
  {
   "cell_type": "markdown",
   "metadata": {},
   "source": [
    "**First, choose the dataset-df_top_s. It is the dateframe about top 100 high voting score movies in each year.**"
   ]
  },
  {
   "cell_type": "code",
   "execution_count": 506,
   "metadata": {},
   "outputs": [
    {
     "data": {
      "text/html": [
       "<div>\n",
       "<style>\n",
       "    .dataframe thead tr:only-child th {\n",
       "        text-align: right;\n",
       "    }\n",
       "\n",
       "    .dataframe thead th {\n",
       "        text-align: left;\n",
       "    }\n",
       "\n",
       "    .dataframe tbody tr th {\n",
       "        vertical-align: top;\n",
       "    }\n",
       "</style>\n",
       "<table border=\"1\" class=\"dataframe\">\n",
       "  <thead>\n",
       "    <tr style=\"text-align: right;\">\n",
       "      <th></th>\n",
       "      <th>id</th>\n",
       "      <th>popularity</th>\n",
       "      <th>budget</th>\n",
       "      <th>revenue</th>\n",
       "      <th>original_title</th>\n",
       "      <th>cast</th>\n",
       "      <th>director</th>\n",
       "      <th>keywords</th>\n",
       "      <th>runtime</th>\n",
       "      <th>genres</th>\n",
       "      <th>production_companies</th>\n",
       "      <th>release_date</th>\n",
       "      <th>vote_count</th>\n",
       "      <th>vote_average</th>\n",
       "      <th>release_year</th>\n",
       "    </tr>\n",
       "  </thead>\n",
       "  <tbody>\n",
       "    <tr>\n",
       "      <th>0</th>\n",
       "      <td>539</td>\n",
       "      <td>2.610362</td>\n",
       "      <td>806948.0</td>\n",
       "      <td>32000000.0</td>\n",
       "      <td>Psycho</td>\n",
       "      <td>Anthony Perkins|Vera Miles|John Gavin|Janet Le...</td>\n",
       "      <td>Alfred Hitchcock</td>\n",
       "      <td>hotel|clerk|arizona|shower|rain</td>\n",
       "      <td>109</td>\n",
       "      <td>Drama|Horror|Thriller</td>\n",
       "      <td>Shamley Productions</td>\n",
       "      <td>8/14/60</td>\n",
       "      <td>1180</td>\n",
       "      <td>8.0</td>\n",
       "      <td>1960</td>\n",
       "    </tr>\n",
       "    <tr>\n",
       "      <th>1</th>\n",
       "      <td>284</td>\n",
       "      <td>0.947307</td>\n",
       "      <td>3000000.0</td>\n",
       "      <td>25000000.0</td>\n",
       "      <td>The Apartment</td>\n",
       "      <td>Jack Lemmon|Shirley MacLaine|Fred MacMurray|Ra...</td>\n",
       "      <td>Billy Wilder</td>\n",
       "      <td>new york|new year's eve|lovesickness|age diffe...</td>\n",
       "      <td>125</td>\n",
       "      <td>Comedy|Drama|Romance</td>\n",
       "      <td>United Artists|The Mirisch Company</td>\n",
       "      <td>6/15/60</td>\n",
       "      <td>235</td>\n",
       "      <td>7.9</td>\n",
       "      <td>1960</td>\n",
       "    </tr>\n",
       "  </tbody>\n",
       "</table>\n",
       "</div>"
      ],
      "text/plain": [
       "    id  popularity     budget     revenue original_title  \\\n",
       "0  539    2.610362   806948.0  32000000.0         Psycho   \n",
       "1  284    0.947307  3000000.0  25000000.0  The Apartment   \n",
       "\n",
       "                                                cast          director  \\\n",
       "0  Anthony Perkins|Vera Miles|John Gavin|Janet Le...  Alfred Hitchcock   \n",
       "1  Jack Lemmon|Shirley MacLaine|Fred MacMurray|Ra...      Billy Wilder   \n",
       "\n",
       "                                            keywords  runtime  \\\n",
       "0                    hotel|clerk|arizona|shower|rain      109   \n",
       "1  new york|new year's eve|lovesickness|age diffe...      125   \n",
       "\n",
       "                  genres                production_companies release_date  \\\n",
       "0  Drama|Horror|Thriller                 Shamley Productions      8/14/60   \n",
       "1   Comedy|Drama|Romance  United Artists|The Mirisch Company      6/15/60   \n",
       "\n",
       "   vote_count  vote_average  release_year  \n",
       "0        1180           8.0          1960  \n",
       "1         235           7.9          1960  "
      ]
     },
     "execution_count": 506,
     "metadata": {},
     "output_type": "execute_result"
    }
   ],
   "source": [
    "df_top_s.head(2)"
   ]
  },
  {
   "cell_type": "markdown",
   "metadata": {},
   "source": [
    "**Then, find the three highest occurrences in each category among the top 100 high voting score movies. And store the result table into variables in order to create a summary table.**"
   ]
  },
  {
   "cell_type": "code",
   "execution_count": 507,
   "metadata": {},
   "outputs": [],
   "source": [
    "# find top three director\n",
    "a = find_top(df_top_s.director)\n",
    "# find top three keywords\n",
    "b = find_top(df_top_s.keywords)\n",
    "# find top three genres\n",
    "c = find_top(df_top_s.genres)"
   ]
  },
  {
   "cell_type": "markdown",
   "metadata": {},
   "source": [
    "**Use the result above to create a summary table.**"
   ]
  },
  {
   "cell_type": "code",
   "execution_count": 508,
   "metadata": {
    "scrolled": false
   },
   "outputs": [
    {
     "data": {
      "text/html": [
       "<div>\n",
       "<style>\n",
       "    .dataframe thead tr:only-child th {\n",
       "        text-align: right;\n",
       "    }\n",
       "\n",
       "    .dataframe thead th {\n",
       "        text-align: left;\n",
       "    }\n",
       "\n",
       "    .dataframe tbody tr th {\n",
       "        vertical-align: top;\n",
       "    }\n",
       "</style>\n",
       "<table border=\"1\" class=\"dataframe\">\n",
       "  <thead>\n",
       "    <tr style=\"text-align: right;\">\n",
       "      <th></th>\n",
       "      <th>high_score_director</th>\n",
       "      <th>high_score_genres</th>\n",
       "      <th>high_score_keywords</th>\n",
       "    </tr>\n",
       "  </thead>\n",
       "  <tbody>\n",
       "    <tr>\n",
       "      <th>0</th>\n",
       "      <td>Woody Allen</td>\n",
       "      <td>Drama</td>\n",
       "      <td>based on novel</td>\n",
       "    </tr>\n",
       "    <tr>\n",
       "      <th>1</th>\n",
       "      <td>Martin Scorsese</td>\n",
       "      <td>Comedy</td>\n",
       "      <td>independent film</td>\n",
       "    </tr>\n",
       "    <tr>\n",
       "      <th>2</th>\n",
       "      <td>Clint Eastwood</td>\n",
       "      <td>Thriller</td>\n",
       "      <td>woman director</td>\n",
       "    </tr>\n",
       "  </tbody>\n",
       "</table>\n",
       "</div>"
      ],
      "text/plain": [
       "  high_score_director high_score_genres high_score_keywords\n",
       "0         Woody Allen             Drama      based on novel\n",
       "1     Martin Scorsese            Comedy    independent film\n",
       "2      Clint Eastwood          Thriller      woman director"
      ]
     },
     "execution_count": 508,
     "metadata": {},
     "output_type": "execute_result"
    }
   ],
   "source": [
    "#create a summary dataframe.\n",
    "df_high_score = pd.DataFrame({'high_score_director': a.index, 'high_score_keywords': b.index, 'high_score_genres': c.index})\n",
    "df_high_score"
   ]
  },
  {
   "cell_type": "markdown",
   "metadata": {},
   "source": [
    "**Finally, find the three highest occurrences in each category of the worst 100 rating score movies.**"
   ]
  },
  {
   "cell_type": "code",
   "execution_count": 509,
   "metadata": {},
   "outputs": [
    {
     "data": {
      "text/html": [
       "<div>\n",
       "<style>\n",
       "    .dataframe thead tr:only-child th {\n",
       "        text-align: right;\n",
       "    }\n",
       "\n",
       "    .dataframe thead th {\n",
       "        text-align: left;\n",
       "    }\n",
       "\n",
       "    .dataframe tbody tr th {\n",
       "        vertical-align: top;\n",
       "    }\n",
       "</style>\n",
       "<table border=\"1\" class=\"dataframe\">\n",
       "  <thead>\n",
       "    <tr style=\"text-align: right;\">\n",
       "      <th></th>\n",
       "      <th>id</th>\n",
       "      <th>popularity</th>\n",
       "      <th>budget</th>\n",
       "      <th>revenue</th>\n",
       "      <th>original_title</th>\n",
       "      <th>cast</th>\n",
       "      <th>director</th>\n",
       "      <th>keywords</th>\n",
       "      <th>runtime</th>\n",
       "      <th>genres</th>\n",
       "      <th>production_companies</th>\n",
       "      <th>release_date</th>\n",
       "      <th>vote_count</th>\n",
       "      <th>vote_average</th>\n",
       "      <th>release_year</th>\n",
       "    </tr>\n",
       "  </thead>\n",
       "  <tbody>\n",
       "    <tr>\n",
       "      <th>0</th>\n",
       "      <td>24014</td>\n",
       "      <td>0.875173</td>\n",
       "      <td>NaN</td>\n",
       "      <td>NaN</td>\n",
       "      <td>Let's Make Love</td>\n",
       "      <td>Marilyn Monroe|Yves Montand|Tony Randall|Frank...</td>\n",
       "      <td>George Cukor</td>\n",
       "      <td>musical</td>\n",
       "      <td>114</td>\n",
       "      <td>Comedy|Romance</td>\n",
       "      <td>Twentieth Century Fox Film Corporation|The Com...</td>\n",
       "      <td>10/7/60</td>\n",
       "      <td>15</td>\n",
       "      <td>4.9</td>\n",
       "      <td>1960</td>\n",
       "    </tr>\n",
       "    <tr>\n",
       "      <th>1</th>\n",
       "      <td>6643</td>\n",
       "      <td>0.421043</td>\n",
       "      <td>NaN</td>\n",
       "      <td>NaN</td>\n",
       "      <td>The Unforgiven</td>\n",
       "      <td>Burt Lancaster|Audrey Hepburn|Audie Murphy|Joh...</td>\n",
       "      <td>John Huston</td>\n",
       "      <td>indian|texas|farm|siblings|saddle</td>\n",
       "      <td>125</td>\n",
       "      <td>Action|Drama|Western</td>\n",
       "      <td>James Productions</td>\n",
       "      <td>1/1/60</td>\n",
       "      <td>17</td>\n",
       "      <td>4.9</td>\n",
       "      <td>1960</td>\n",
       "    </tr>\n",
       "  </tbody>\n",
       "</table>\n",
       "</div>"
      ],
      "text/plain": [
       "      id  popularity  budget  revenue   original_title  \\\n",
       "0  24014    0.875173     NaN      NaN  Let's Make Love   \n",
       "1   6643    0.421043     NaN      NaN   The Unforgiven   \n",
       "\n",
       "                                                cast      director  \\\n",
       "0  Marilyn Monroe|Yves Montand|Tony Randall|Frank...  George Cukor   \n",
       "1  Burt Lancaster|Audrey Hepburn|Audie Murphy|Joh...   John Huston   \n",
       "\n",
       "                            keywords  runtime                genres  \\\n",
       "0                            musical      114        Comedy|Romance   \n",
       "1  indian|texas|farm|siblings|saddle      125  Action|Drama|Western   \n",
       "\n",
       "                                production_companies release_date  vote_count  \\\n",
       "0  Twentieth Century Fox Film Corporation|The Com...      10/7/60          15   \n",
       "1                                  James Productions       1/1/60          17   \n",
       "\n",
       "   vote_average  release_year  \n",
       "0           4.9          1960  \n",
       "1           4.9          1960  "
      ]
     },
     "execution_count": 509,
     "metadata": {},
     "output_type": "execute_result"
    }
   ],
   "source": [
    "# call the dataset wiht the 100 low rating movies in each year\n",
    "df_low_s.head(2)"
   ]
  },
  {
   "cell_type": "code",
   "execution_count": 510,
   "metadata": {},
   "outputs": [],
   "source": [
    "# find top three director among the among the 100 low rating movies\n",
    "na = find_top(df_low_s.director)\n",
    "# find top three keywords among the among the 100 low rating movies\n",
    "nb = find_top(df_low_s.keywords)\n",
    "# find top three genres among the among the 100 low rating movies\n",
    "nc = find_top(df_low_s.genres)"
   ]
  },
  {
   "cell_type": "markdown",
   "metadata": {},
   "source": [
    "Use the result above to create a summary table."
   ]
  },
  {
   "cell_type": "code",
   "execution_count": 511,
   "metadata": {
    "scrolled": true
   },
   "outputs": [
    {
     "data": {
      "text/html": [
       "<div>\n",
       "<style>\n",
       "    .dataframe thead tr:only-child th {\n",
       "        text-align: right;\n",
       "    }\n",
       "\n",
       "    .dataframe thead th {\n",
       "        text-align: left;\n",
       "    }\n",
       "\n",
       "    .dataframe tbody tr th {\n",
       "        vertical-align: top;\n",
       "    }\n",
       "</style>\n",
       "<table border=\"1\" class=\"dataframe\">\n",
       "  <thead>\n",
       "    <tr style=\"text-align: right;\">\n",
       "      <th></th>\n",
       "      <th>low_score_director</th>\n",
       "      <th>low_score_genres</th>\n",
       "      <th>low_score_keywords</th>\n",
       "    </tr>\n",
       "  </thead>\n",
       "  <tbody>\n",
       "    <tr>\n",
       "      <th>0</th>\n",
       "      <td>Woody Allen</td>\n",
       "      <td>Comedy</td>\n",
       "      <td>sex</td>\n",
       "    </tr>\n",
       "    <tr>\n",
       "      <th>1</th>\n",
       "      <td>John Carpenter</td>\n",
       "      <td>Drama</td>\n",
       "      <td>independent film</td>\n",
       "    </tr>\n",
       "    <tr>\n",
       "      <th>2</th>\n",
       "      <td>John Landis</td>\n",
       "      <td>Thriller</td>\n",
       "      <td>murder</td>\n",
       "    </tr>\n",
       "  </tbody>\n",
       "</table>\n",
       "</div>"
      ],
      "text/plain": [
       "  low_score_director low_score_genres low_score_keywords\n",
       "0        Woody Allen           Comedy                sex\n",
       "1     John Carpenter            Drama   independent film\n",
       "2        John Landis         Thriller             murder"
      ]
     },
     "execution_count": 511,
     "metadata": {},
     "output_type": "execute_result"
    }
   ],
   "source": [
    "df_low_score = pd.DataFrame({'low_score_director': na.index, 'low_score_keywords': nb.index, 'low_score_genres': nc.index})\n",
    "df_low_score"
   ]
  },
  {
   "cell_type": "code",
   "execution_count": 512,
   "metadata": {},
   "outputs": [
    {
     "data": {
      "text/html": [
       "<div>\n",
       "<style>\n",
       "    .dataframe thead tr:only-child th {\n",
       "        text-align: right;\n",
       "    }\n",
       "\n",
       "    .dataframe thead th {\n",
       "        text-align: left;\n",
       "    }\n",
       "\n",
       "    .dataframe tbody tr th {\n",
       "        vertical-align: top;\n",
       "    }\n",
       "</style>\n",
       "<table border=\"1\" class=\"dataframe\">\n",
       "  <thead>\n",
       "    <tr style=\"text-align: right;\">\n",
       "      <th></th>\n",
       "      <th>high_score_director</th>\n",
       "      <th>high_score_genres</th>\n",
       "      <th>high_score_keywords</th>\n",
       "    </tr>\n",
       "  </thead>\n",
       "  <tbody>\n",
       "    <tr>\n",
       "      <th>0</th>\n",
       "      <td>Woody Allen</td>\n",
       "      <td>Drama</td>\n",
       "      <td>based on novel</td>\n",
       "    </tr>\n",
       "    <tr>\n",
       "      <th>1</th>\n",
       "      <td>Martin Scorsese</td>\n",
       "      <td>Comedy</td>\n",
       "      <td>independent film</td>\n",
       "    </tr>\n",
       "    <tr>\n",
       "      <th>2</th>\n",
       "      <td>Clint Eastwood</td>\n",
       "      <td>Thriller</td>\n",
       "      <td>woman director</td>\n",
       "    </tr>\n",
       "  </tbody>\n",
       "</table>\n",
       "</div>"
      ],
      "text/plain": [
       "  high_score_director high_score_genres high_score_keywords\n",
       "0         Woody Allen             Drama      based on novel\n",
       "1     Martin Scorsese            Comedy    independent film\n",
       "2      Clint Eastwood          Thriller      woman director"
      ]
     },
     "execution_count": 512,
     "metadata": {},
     "output_type": "execute_result"
    }
   ],
   "source": [
    "# compare\n",
    "df_high_score"
   ]
  },
  {
   "cell_type": "markdown",
   "metadata": {},
   "source": [
    "<b>\n",
    "After summing up both tables above, we can find that:\n",
    "1. Martin Scorsese and Clint Eastwood have made top quality movies on average over the past years from 1960.\n",
    "2. The top quality movies have the keywords with *based on novel* and *woman director* over the past years from 1960. The *based on novel* keyword are also with the top popular movies, but the result of woman director amazed me! \n",
    "    </b>"
   ]
  },
  {
   "cell_type": "markdown",
   "metadata": {},
   "source": [
    "## Part 2 Question Explore Summary"
   ]
  },
  {
   "cell_type": "markdown",
   "metadata": {},
   "source": [
    "1. For the properties are associated with high popularity movies, they are **high budget levels** and **longer run time**. And `cast` associated with high popularity movies are **Robert De Niro** and **Bruce Willis**; `director` associated with high popularity movies are **Steven Spielberg**; `genres` associated with high popularity movies are **drama**, **comedy**, and **thriller** but they also appeared in the most unpopular movies; `keywords` associated with high popularity movies are based on **novel** and **dystopia**; `producer` associated with high popularity movies are **Warner Bros.**, **Universal Pictures** and **Paramount Pictures**, but they are also appeared in the most unpopular movies.\n",
    "\n",
    "2. Each level in both `runtime` and `budget` don't have obvious different high rating score. In other words, the low budget level or the low budget may still have a high rating. And **Martin Scorsese** and **Clint Eastwood** have made top quality movies on average over the past years from 1960; the top quality movies have the `keywords` with **based on novel** and **woman director** over the past years from 1960."
   ]
  },
  {
   "cell_type": "markdown",
   "metadata": {},
   "source": [
    "<a id='r3'></a>\n",
    "## Research Part 3 Top Keywords and Genres Trends by Generation"
   ]
  },
  {
   "cell_type": "markdown",
   "metadata": {},
   "source": [
    "<b>\n",
    "- Question 1: Number of movie released year by year\n",
    "- Question 2: Keywords Trends by Generation\n",
    "- Question 3: Genres Trends by Generation\n",
    "    </b>"
   ]
  },
  {
   "cell_type": "markdown",
   "metadata": {},
   "source": [
    "<b>\n",
    "In question 1, I am going to find out the number of movie released year by year.\n",
    "    \n",
    "In question 2 and 3, I am going to find out what's the keyword and genre appeared most by generation? To do this:\n",
    "- Step one: group the dataframe into five generations: 1960s, 1970s, 1980s, 1990s and 2000s\n",
    "- Step two: use the `find_top` function to count out the most appeared keyword and genre in each generation dataframe.\n",
    "    </b>"
   ]
  },
  {
   "cell_type": "markdown",
   "metadata": {},
   "source": [
    "<a id='r3q1'></a>\n",
    "## Question 1: Number of movie released year by year"
   ]
  },
  {
   "cell_type": "markdown",
   "metadata": {},
   "source": [
    "First, use group by release year and count the number of movie released in each year."
   ]
  },
  {
   "cell_type": "code",
   "execution_count": 513,
   "metadata": {},
   "outputs": [
    {
     "data": {
      "text/plain": [
       "release_year\n",
       "1960    32\n",
       "1961    31\n",
       "1962    32\n",
       "1963    34\n",
       "1964    42\n",
       "Name: id, dtype: int64"
      ]
     },
     "execution_count": 513,
     "metadata": {},
     "output_type": "execute_result"
    }
   ],
   "source": [
    "movie_count = df.groupby('release_year').count()['id']\n",
    "movie_count.head()"
   ]
  },
  {
   "cell_type": "markdown",
   "metadata": {},
   "source": [
    "Then visualize the result."
   ]
  },
  {
   "cell_type": "code",
   "execution_count": 514,
   "metadata": {
    "scrolled": true
   },
   "outputs": [
    {
     "data": {
      "image/png": "[encoded data removed]",
      "text/plain": [
       "<matplotlib.figure.Figure at 0x7ff95b3f81d0>"
      ]
     },
     "metadata": {},
     "output_type": "display_data"
    }
   ],
   "source": [
    "#set style\n",
    "sns.set_style('darkgrid')\n",
    "#set x, y axis data\n",
    "# x is movie release year\n",
    "x = movie_count.index\n",
    "# y is number of movie released\n",
    "y = movie_count\n",
    "#set size\n",
    "plt.figure(figsize=(10, 5))\n",
    "#plot line chart \n",
    "plt.plot(x, y, color = 'g', label = 'mean')\n",
    "#set title and labels\n",
    "plt.title('Number of Movie Released year by year')\n",
    "plt.xlabel('Year')\n",
    "plt.ylabel('Number of Movie Released');"
   ]
  },
  {
   "cell_type": "markdown",
   "metadata": {},
   "source": [
    "We can see that the number of movie released are increasing year by year. And the it is the accelerated growth since the curve is concave upward. "
   ]
  },
  {
   "cell_type": "markdown",
   "metadata": {},
   "source": [
    "<a id='r3q2'></a>\n",
    "## Question 2: Keywords Trends by Generation"
   ]
  },
  {
   "cell_type": "markdown",
   "metadata": {},
   "source": [
    "First, sort the movie release year list to group the dataframe into generation."
   ]
  },
  {
   "cell_type": "code",
   "execution_count": 515,
   "metadata": {
    "scrolled": true
   },
   "outputs": [
    {
     "data": {
      "text/plain": [
       "array([1960, 1961, 1962, 1963, 1964, 1965, 1966, 1967, 1968, 1969, 1970,\n",
       "       1971, 1972, 1973, 1974, 1975, 1976, 1977, 1978, 1979, 1980, 1981,\n",
       "       1982, 1983, 1984, 1985, 1986, 1987, 1988, 1989, 1990, 1991, 1992,\n",
       "       1993, 1994, 1995, 1996, 1997, 1998, 1999, 2000, 2001, 2002, 2003,\n",
       "       2004, 2005, 2006, 2007, 2008, 2009, 2010, 2011, 2012, 2013, 2014,\n",
       "       2015])"
      ]
     },
     "execution_count": 515,
     "metadata": {},
     "output_type": "execute_result"
    }
   ],
   "source": [
    "# sort the movie release year list.\n",
    "dfyear= df.release_year.unique()\n",
    "dfyear= np.sort(dfyear)\n",
    "dfyear"
   ]
  },
  {
   "cell_type": "markdown",
   "metadata": {},
   "source": [
    "Then, build the generation catagory of 1960s, 1970s, 1980s, 1990s and 2000s."
   ]
  },
  {
   "cell_type": "code",
   "execution_count": 516,
   "metadata": {},
   "outputs": [],
   "source": [
    "# year list of 1960s\n",
    "y1960s =dfyear[:10]\n",
    "# year list of 1970s\n",
    "y1970s =dfyear[10:20]\n",
    "# year list of 1980s\n",
    "y1980s =dfyear[20:30]\n",
    "# year list of 1990s\n",
    "y1990s = dfyear[30:40]\n",
    "# year list of afer 2000\n",
    "y2000 = dfyear[40:]"
   ]
  },
  {
   "cell_type": "markdown",
   "metadata": {},
   "source": [
    "**Then for each generation dataframe, use the find_top to find out the most appeared keywords, then combine this result to a new datafram.**"
   ]
  },
  {
   "cell_type": "code",
   "execution_count": 517,
   "metadata": {
    "scrolled": true
   },
   "outputs": [
    {
     "data": {
      "text/html": [
       "<div>\n",
       "<style>\n",
       "    .dataframe thead tr:only-child th {\n",
       "        text-align: right;\n",
       "    }\n",
       "\n",
       "    .dataframe thead th {\n",
       "        text-align: left;\n",
       "    }\n",
       "\n",
       "    .dataframe tbody tr th {\n",
       "        vertical-align: top;\n",
       "    }\n",
       "</style>\n",
       "<table border=\"1\" class=\"dataframe\">\n",
       "  <thead>\n",
       "    <tr style=\"text-align: right;\">\n",
       "      <th></th>\n",
       "      <th>top</th>\n",
       "      <th>year</th>\n",
       "    </tr>\n",
       "  </thead>\n",
       "  <tbody>\n",
       "    <tr>\n",
       "      <th>based on novel</th>\n",
       "      <td>16</td>\n",
       "      <td>1960s</td>\n",
       "    </tr>\n",
       "    <tr>\n",
       "      <th>based on novel</th>\n",
       "      <td>23</td>\n",
       "      <td>1970s</td>\n",
       "    </tr>\n",
       "    <tr>\n",
       "      <th>nudity</th>\n",
       "      <td>39</td>\n",
       "      <td>1980s</td>\n",
       "    </tr>\n",
       "    <tr>\n",
       "      <th>independent film</th>\n",
       "      <td>80</td>\n",
       "      <td>1990s</td>\n",
       "    </tr>\n",
       "    <tr>\n",
       "      <th>woman director</th>\n",
       "      <td>347</td>\n",
       "      <td>after2000</td>\n",
       "    </tr>\n",
       "  </tbody>\n",
       "</table>\n",
       "</div>"
      ],
      "text/plain": [
       "                  top       year\n",
       "based on novel     16      1960s\n",
       "based on novel     23      1970s\n",
       "nudity             39      1980s\n",
       "independent film   80      1990s\n",
       "woman director    347  after2000"
      ]
     },
     "execution_count": 517,
     "metadata": {},
     "output_type": "execute_result"
    }
   ],
   "source": [
    "# year list of each generation\n",
    "times = [y1960s, y1970s, y1980s, y1990s, y2000]\n",
    "#generation name\n",
    "names = ['1960s', '1970s', '1980s', '1990s', 'after2000']\n",
    "#creat a empty dataframe,df_r3\n",
    "df_r3 = pd.DataFrame()\n",
    "index = 0\n",
    "#for each generation, do the following procedure\n",
    "for s in times:\n",
    "    # first filter dataframe with the selected generation, and store it to dfn\n",
    "    dfn = df[df.release_year.isin(s)] \n",
    "    #apply the find_top function with the selected frame, using the result create a dataframe, store it to dfn2 \n",
    "    dfn2 = pd.DataFrame({'year' :names[index],'top': find_top(dfn.keywords,1)})\n",
    "     #append dfn2 to df_q2\n",
    "    df_r3 = df_r3.append(dfn2)\n",
    "    index +=1\n",
    "df_r3"
   ]
  },
  {
   "cell_type": "markdown",
   "metadata": {},
   "source": [
    "Now, we get the keywords of most filmed movies in each generation. We can see that in 1960s and 1970s, the top keywords was *based on novel*, which means movies with the keyword based on novel are released most according the dataset. In 1980s, the top keyword was *nudity*, what a special trend! In 1990s, *independent film* became the top keyword. And after 2000, the movie with the feature *woman director* were released most. It's sounds great!"
   ]
  },
  {
   "cell_type": "markdown",
   "metadata": {},
   "source": [
    "Now let's visualize the result."
   ]
  },
  {
   "cell_type": "code",
   "execution_count": 518,
   "metadata": {},
   "outputs": [
    {
     "data": {
      "text/plain": [
       "Text(0.5,1,'Keywords Trends by Generation')"
      ]
     },
     "execution_count": 518,
     "metadata": {},
     "output_type": "execute_result"
    },
    {
     "data": {
      "image/png": "[encoded data removed]",
      "text/plain": [
       "<matplotlib.figure.Figure at 0x7ff9589b3208>"
      ]
     },
     "metadata": {},
     "output_type": "display_data"
    }
   ],
   "source": [
    "# Setting the positions\n",
    "generation = ['1960s', '1970s', '1980s', '1990s', 'after2000']\n",
    "keywords = df_r3.index\n",
    "y_pos = np.arange(len(generation))\n",
    "fig, ax = plt.subplots()\n",
    "# Setting y1: the keywords number\n",
    "y1 = df_r3.top\n",
    "# Setting y2 again to present the right-side y axis labels\n",
    "y2 = df_r3.top\n",
    "#plot the bar\n",
    "ax.barh(y_pos,y1, color = '#007482')\n",
    "#set the left side y axis ticks position\n",
    "ax.set_yticks(y_pos)\n",
    "#set the left side y axis tick label\n",
    "ax.set_yticklabels(keywords)\n",
    "#set left side y axis label\n",
    "ax.set_ylabel('keywords')\n",
    "\n",
    "#create another axis to present the right-side y axis labels\n",
    "ax2 = ax.twinx()\n",
    "#plot the bar\n",
    "ax2.barh(y_pos,y2, color = '#27a5b4')\n",
    "#set the right side y axis ticks position\n",
    "ax2.set_yticks(y_pos)\n",
    "#set the right side y axis tick label\n",
    "ax2.set_yticklabels(generation)\n",
    "#set right side y axis label\n",
    "ax2.set_ylabel('generation')\n",
    "#set title\n",
    "ax.set_title('Keywords Trends by Generation')"
   ]
  },
  {
   "cell_type": "markdown",
   "metadata": {},
   "source": [
    "One more thing, we can see that the number of the keywords appeared changes from 16 to 347 by generation, and it is resonable since the trend is consistent with the number of movie released."
   ]
  },
  {
   "cell_type": "markdown",
   "metadata": {},
   "source": [
    "<a id='r3q3'></a>\n",
    "## Question 3: Genres Trends by Generation"
   ]
  },
  {
   "cell_type": "markdown",
   "metadata": {},
   "source": [
    "Use the same procedure as Question 2, first use the `find_top` to find out the most appeared genres, then combine this result to a new datafram."
   ]
  },
  {
   "cell_type": "code",
   "execution_count": 519,
   "metadata": {},
   "outputs": [
    {
     "data": {
      "text/html": [
       "<div>\n",
       "<style>\n",
       "    .dataframe thead tr:only-child th {\n",
       "        text-align: right;\n",
       "    }\n",
       "\n",
       "    .dataframe thead th {\n",
       "        text-align: left;\n",
       "    }\n",
       "\n",
       "    .dataframe tbody tr th {\n",
       "        vertical-align: top;\n",
       "    }\n",
       "</style>\n",
       "<table border=\"1\" class=\"dataframe\">\n",
       "  <thead>\n",
       "    <tr style=\"text-align: right;\">\n",
       "      <th></th>\n",
       "      <th>top</th>\n",
       "      <th>year</th>\n",
       "    </tr>\n",
       "  </thead>\n",
       "  <tbody>\n",
       "    <tr>\n",
       "      <th>Drama</th>\n",
       "      <td>167</td>\n",
       "      <td>1960s</td>\n",
       "    </tr>\n",
       "    <tr>\n",
       "      <th>Drama</th>\n",
       "      <td>238</td>\n",
       "      <td>1970s</td>\n",
       "    </tr>\n",
       "    <tr>\n",
       "      <th>Comedy</th>\n",
       "      <td>428</td>\n",
       "      <td>1980s</td>\n",
       "    </tr>\n",
       "    <tr>\n",
       "      <th>Drama</th>\n",
       "      <td>862</td>\n",
       "      <td>1990s</td>\n",
       "    </tr>\n",
       "    <tr>\n",
       "      <th>Drama</th>\n",
       "      <td>3050</td>\n",
       "      <td>after2000</td>\n",
       "    </tr>\n",
       "  </tbody>\n",
       "</table>\n",
       "</div>"
      ],
      "text/plain": [
       "         top       year\n",
       "Drama    167      1960s\n",
       "Drama    238      1970s\n",
       "Comedy   428      1980s\n",
       "Drama    862      1990s\n",
       "Drama   3050  after2000"
      ]
     },
     "execution_count": 519,
     "metadata": {},
     "output_type": "execute_result"
    }
   ],
   "source": [
    "# year list of each generation\n",
    "times = [y1960s, y1970s, y1980s, y1990s, y2000]\n",
    "#generation name\n",
    "names = ['1960s', '1970s', '1980s', '1990s', 'after2000']\n",
    "#creat a empty dataframe,df_r3\n",
    "df_r3 = pd.DataFrame()\n",
    "index = 0\n",
    "#for each generation, do the following procedure\n",
    "for s in times:\n",
    "    # first filter dataframe with the selected generation, and store it to dfn\n",
    "    dfn = df[df.release_year.isin(s)] \n",
    "    #apply the find_top function with the selected frame, using the result create a dataframe, store it to dfn2 \n",
    "    dfn2 = pd.DataFrame({'year' :names[index],'top': find_top(dfn.genres,1)})\n",
    "     #append dfn2 to df_q2\n",
    "    df_r3 = df_r3.append(dfn2)\n",
    "    index +=1\n",
    "df_r3"
   ]
  },
  {
   "cell_type": "markdown",
   "metadata": {},
   "source": [
    "Visualize the result."
   ]
  },
  {
   "cell_type": "code",
   "execution_count": 520,
   "metadata": {},
   "outputs": [
    {
     "data": {
      "text/plain": [
       "Text(0.5,1,'Genres Trends by Generation')"
      ]
     },
     "execution_count": 520,
     "metadata": {},
     "output_type": "execute_result"
    },
    {
     "data": {
      "image/png": "[encoded data removed]",
      "text/plain": [
       "<matplotlib.figure.Figure at 0x7ff958bbddd8>"
      ]
     },
     "metadata": {},
     "output_type": "display_data"
    }
   ],
   "source": [
    "# Setting the positions\n",
    "generation = ['1960s', '1970s', '1980s', '1990s', 'after2000']\n",
    "genres = df_r3.index\n",
    "y_pos = np.arange(len(generation))\n",
    "fig, ax = plt.subplots()\n",
    "# Setting y1: the genre number\n",
    "y1 = df_r3.top\n",
    "# Setting y2 again to present the right-side y axis labels\n",
    "y2 = df_r3.top\n",
    "#plot the bar\n",
    "ax.barh(y_pos,y1, color = '#007482')\n",
    "#set the left side y axis ticks position\n",
    "ax.set_yticks(y_pos)\n",
    "#set the left side y axis tick label\n",
    "ax.set_yticklabels(genres)\n",
    "#set left side y axis label\n",
    "ax.set_ylabel('genres')\n",
    "\n",
    "#create another axis to present the right-side y axis labels\n",
    "ax2 = ax.twinx()\n",
    "#plot the bar\n",
    "ax2.barh(y_pos,y2, color = '#27b466')\n",
    "#set the right side y axis ticks position\n",
    "ax2.set_yticks(y_pos)\n",
    "#set the right side y axis tick label\n",
    "ax2.set_yticklabels(generation)\n",
    "#set right side y axis label\n",
    "ax2.set_ylabel('generation')\n",
    "#set title\n",
    "ax.set_title('Genres Trends by Generation')"
   ]
  },
  {
   "cell_type": "markdown",
   "metadata": {},
   "source": [
    "We can see that the genre `Drama` are the most filmed in almost all generation. Only the 1980s are dominated by the `comedy` type. "
   ]
  },
  {
   "cell_type": "markdown",
   "metadata": {},
   "source": [
    "## Part 3 Question Explore Summary"
   ]
  },
  {
   "cell_type": "markdown",
   "metadata": {},
   "source": [
    "1. The number of movie released are increasing year by year. And the it is in the accelerated growth trend.\n",
    "2. In 1960s and 1970s, the top keywords was `based on novel`, which means movies with the keyword based on novel are released most according the dataset. In 1980s, the top keyword was `nudity`. In 1990s, `independent film` became the top keyword. And after 2000, the movie with the feature `woman director` were released most.\n",
    "3. The genre `Drama` are the most filmed in almost all generation. Only the 1980s are dominated by the `comedy` type."
   ]
  },
  {
   "cell_type": "markdown",
   "metadata": {},
   "source": [
    "<a id='conclusions'></a>\n",
    "## Conclusions\n",
    "\n",
    "The goal in the research is primary to explore three parts questions:\n",
    "\n",
    "** Part one: General Explore**\n",
    "    \n",
    "   At part one, I explored some general questions. The result turned out that the movie popularity trend is growing from 1960 on average. Moreever, I focused on the movies which are with high revenue. I found movies with higher revenue level are with higher popularity in recent five years on average. Besides, movies with higher revenue level don't have the significant high score rating in recent five years. And this results made me want to learn more: What's properties that are associated with high popularity movies? What's properties that are associated with high high voting score?\n",
    "    \n",
    "** Part two: Find the Properties are Associated with Successful Movies**\n",
    "   \n",
    "   At this part, I first found out the properties that are associated with high popularity movies. They were with high budget levels and longer run time.  And cast associated with high popularity movies are Robert De Niro and Bruce Willis; director associated with high popularity movies are Steven Spielberg; genres associated with high popularity movies are drama, comedy, and thriller but they also appeared in the most unpopular movies; keywords associated with high popularity movies are based on novel and dystopia; producer associated with high popularity movies are Warner Bros., Universal Pictures and Paramount Pictures, but they are also appeared in the most unpopular movies.\n",
    "   \n",
    "   And the I found out the properties that are associated with high high voting score. Each level in both runtime and budget don't have obvious different high rating score. In other words, the low budget level or the low budget may still have a high rating. And Martin Scorsese and Clint Eastwood have made top quality movies on average over the past years from 1960; the top quality movies have the keywords with based on novel and woman director over the past years from 1960.\n",
    "   \n",
    "   \n",
    "**Part three: Top Keywords and Genres Trends by Generation**\n",
    "   \n",
    "   In this part, I explored the number of movie released trend year by year. Then explored the keywords and genres trends, with group the dataframe into five generations: 1960s, 1970s, 1980s, 1990s and 2000s.\n",
    "   \n",
    "   The number of movie released are increasing year by year. And the it is in the accelerated growth trend. Besides, In 1960s and 1970s, the top keywords was based on novel, in 1980s, the top keyword was nudity. In 1990s, independent film became the top keyword. And after 2000, the movie with the feature woman director were released most.\n",
    "   Further more, the genre Drama are the most filmed in almost all generation. Only the 1980s are dominated by the comedy type.\n",
    "\n",
    "To sum up, I did find a lot of interesting information among the dataset, just hope that I can dig more! But there are still some limitations."
   ]
  },
  {
   "cell_type": "markdown",
   "metadata": {},
   "source": [
    "## Limitation\n",
    "1. Data quality: althought I assume the zero values in revenue and budget column are missing, there are still a lot of unreasonable small/big value in the both of the columns. Also, the metrics about rating or popularity are not defined clearly, and the basis of them may be changing year by year.\n",
    "2. Although the the `popularity` doesn't have the upperbound , it actually have the high probability of having outliers. But I choose to retain the data to keep the data originalty. Maybe there are still the reason that I should take it into account.\n",
    "2. Units of revenue and budget column: I am not sure that the budgets and revenues all in US dollars? \n",
    "3. The inflation effect: I used the revenue and budget data to explore, but I didn't use the adjusted data, although it is provided the adjusted data based on the year 2010.\n",
    "4. In my reseach one, although I discussed the distribution of popularity in different revenue levels in recent five years, but I just cut the revenue levels based on it's quantile. I didn't find out the whole revenue distributin in the fisrt, so there may be exist risks that the high revenue level still cover a wide of range, and may affect the final result. Besides, in the part, I just discuss data in the recent five year, maybe in other year there are some different distribution.\n",
    "5. In research two, I dicussed the properties are associated with successful movies. The successful I defined here are high popularity and high voting score. But I didn't find the properties of high revenue since I just assume the high revenue level are with higher popularity, which is I found in research one, so it makes me just leave out the finding the properties of high revenue movie. But I think there must be some other factor that are associated with high revenue movies.\n",
    "6. In research two, I dicussed the budget level and runtime level properties, but I just cut both of them based on the whole time quantile data not year by year. Also, to cut them into four levels based on quantile still rough.\n",
    "7. The categorical data, when I analysed them, I just split them one by one, and count them one by one. But the thing is, there must be some effect when these words combine. For example, the keyword `based on novel` is popular, but what truly keyword that makes the movie sucess maybe the `based on novel`&`adventure`. \n",
    "8. I didn't count number of votes into consideration, so the rating score may be a bias whe the vote number is few."
   ]
  },
  {
   "cell_type": "code",
   "execution_count": 521,
   "metadata": {},
   "outputs": [
    {
     "data": {
      "text/plain": [
       "0"
      ]
     },
     "execution_count": 521,
     "metadata": {},
     "output_type": "execute_result"
    }
   ],
   "source": [
    "from subprocess import call\n",
    "call(['python', '-m', 'nbconvert', 'Investigate_a_Dataset.ipynb'])"
   ]
  }
 ],
 "metadata": {
  "kernelspec": {
   "display_name": "Python 3",
   "language": "python",
   "name": "python3"
  },
  "language_info": {
   "codemirror_mode": {
    "name": "ipython",
    "version": 3
   },
   "file_extension": ".py",
   "mimetype": "text/x-python",
   "name": "python",
   "nbconvert_exporter": "python",
   "pygments_lexer": "ipython3",
   "version": "3.6.5"
  }
 },
 "nbformat": 4,
 "nbformat_minor": 2
}
